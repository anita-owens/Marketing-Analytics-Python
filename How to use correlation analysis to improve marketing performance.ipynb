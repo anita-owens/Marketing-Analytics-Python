{
 "cells": [
  {
   "cell_type": "markdown",
   "id": "8063af0c",
   "metadata": {},
   "source": [
    "# How to use correlation analysis to improve marketing"
   ]
  },
  {
   "cell_type": "markdown",
   "id": "19e3e815",
   "metadata": {},
   "source": [
    "## Import Packages"
   ]
  },
  {
   "cell_type": "code",
   "execution_count": 1,
   "id": "9517dc45",
   "metadata": {},
   "outputs": [],
   "source": [
    "#Locate imported packages\n",
    "import sys\n",
    "sys.path\n",
    "\n",
    "#import pandas and numpy\n",
    "import pandas as pd\n",
    "import numpy as np\n",
    "\n",
    "# From matplotlib, import pyplot under the alias plt\n",
    "from matplotlib import pyplot as plt"
   ]
  },
  {
   "cell_type": "markdown",
   "id": "80eb3e22",
   "metadata": {},
   "source": [
    "## Import Dataset"
   ]
  },
  {
   "cell_type": "code",
   "execution_count": 2,
   "id": "7e4780ed",
   "metadata": {},
   "outputs": [
    {
     "name": "stdout",
     "output_type": "stream",
     "text": [
      "   NewVolSales  Base_Price  Radio   InStore NewspaperInserts  Discount  \\\n",
      "0        19564   15.029276   245.0   15.452              NaN     0.000   \n",
      "1        19387   15.029276   314.0   16.388              NaN     0.000   \n",
      "2        23889   14.585093   324.0   62.692              NaN     0.050   \n",
      "3        20055   15.332887   298.0   16.573              NaN     0.000   \n",
      "4        20064   15.642632   279.0   41.504              NaN     0.045   \n",
      "\n",
      "           TV    Stout Website_Campaign   \n",
      "0  101.780000  2.28342               NaN  \n",
      "1   76.734000  2.22134               NaN  \n",
      "2  131.590200  2.00604               NaN  \n",
      "3  119.627060  2.19897               NaN  \n",
      "4  103.438118  1.81860               NaN  \n"
     ]
    }
   ],
   "source": [
    "#Import data\n",
    "df = pd.read_csv(\"datasets/mktmix.csv\")\n",
    "\n",
    "print(df.head(5))"
   ]
  },
  {
   "cell_type": "code",
   "execution_count": 3,
   "id": "77e4afa2",
   "metadata": {},
   "outputs": [
    {
     "name": "stdout",
     "output_type": "stream",
     "text": [
      "<class 'pandas.core.frame.DataFrame'>\n",
      "RangeIndex: 104 entries, 0 to 103\n",
      "Data columns (total 9 columns):\n",
      " #   Column             Non-Null Count  Dtype  \n",
      "---  ------             --------------  -----  \n",
      " 0   NewVolSales        104 non-null    int64  \n",
      " 1   Base_Price         104 non-null    float64\n",
      " 2   Radio              100 non-null    float64\n",
      " 3   InStore            104 non-null    float64\n",
      " 4   NewspaperInserts   6 non-null      object \n",
      " 5   Discount           104 non-null    float64\n",
      " 6   TV                 104 non-null    float64\n",
      " 7   Stout              104 non-null    float64\n",
      " 8   Website_Campaign   14 non-null     object \n",
      "dtypes: float64(6), int64(1), object(2)\n",
      "memory usage: 7.4+ KB\n",
      "None\n"
     ]
    }
   ],
   "source": [
    "# Check column data types and check for non-missing values\n",
    "print(df.info())"
   ]
  },
  {
   "cell_type": "markdown",
   "id": "4d745f30",
   "metadata": {},
   "source": [
    "We have null values on the NewspaperInserts column"
   ]
  },
  {
   "cell_type": "code",
   "execution_count": 4,
   "id": "2489667f",
   "metadata": {},
   "outputs": [
    {
     "name": "stdout",
     "output_type": "stream",
     "text": [
      "        NewVolSales  Base_Price      Radio      InStore    Discount  \\\n",
      "count    104.000000  104.000000  100.000000  104.000000  104.000000   \n",
      "mean   20171.067308   15.306740  256.690000   32.918567    0.022059   \n",
      "std     1578.604670    0.528902   86.994682   13.682570    0.027668   \n",
      "min    17431.000000   13.735724    0.000000   10.782000    0.000000   \n",
      "25%    19048.750000   15.029276  235.000000   22.183750    0.000000   \n",
      "50%    19943.500000   15.332887  278.500000   31.161500    0.000000   \n",
      "75%    20942.750000   15.642632  313.250000   41.079000    0.049423   \n",
      "max    24944.000000   16.281020  399.000000   68.119000    0.090763   \n",
      "\n",
      "               TV       Stout  \n",
      "count  104.000000  104.000000  \n",
      "mean   141.009774    2.545966  \n",
      "std     42.949231    0.310070  \n",
      "min     37.656174    1.818600  \n",
      "25%    117.108343    2.316450  \n",
      "50%    138.581542    2.502120  \n",
      "75%    175.681780    2.814315  \n",
      "max    240.291967    3.158620  \n"
     ]
    }
   ],
   "source": [
    "# Check Summary statistics\n",
    "print(df.describe())"
   ]
  },
  {
   "cell_type": "markdown",
   "id": "2de44675",
   "metadata": {},
   "source": [
    "\n",
    "***"
   ]
  },
  {
   "cell_type": "markdown",
   "id": "05c06369",
   "metadata": {},
   "source": [
    "## Exploratory Data Visualization"
   ]
  },
  {
   "cell_type": "code",
   "execution_count": null,
   "id": "5b0b7a2b",
   "metadata": {},
   "outputs": [],
   "source": []
  }
 ],
 "metadata": {
  "kernelspec": {
   "display_name": "Python 3 (ipykernel)",
   "language": "python",
   "name": "python3"
  },
  "language_info": {
   "codemirror_mode": {
    "name": "ipython",
    "version": 3
   },
   "file_extension": ".py",
   "mimetype": "text/x-python",
   "name": "python",
   "nbconvert_exporter": "python",
   "pygments_lexer": "ipython3",
   "version": "3.9.7"
  }
 },
 "nbformat": 4,
 "nbformat_minor": 5
}
