{
 "cells": [
  {
   "cell_type": "markdown",
   "id": "8063af0c",
   "metadata": {},
   "source": [
    "# How to use correlation analysis to improve marketing"
   ]
  },
  {
   "cell_type": "markdown",
   "id": "3b2fbe56",
   "metadata": {},
   "source": [
    "**Why correlation?**\n",
    "\n",
    "It is important to understand what drives relationships. For example, if you want to determine how marketing performance impact your sales numbers you have to account for all the other major factors that can also explain your sales numbers. \n",
    "\n",
    "Correlation is a great exploratory tool that often reveals interesting patterns and can suggest hypotheses. Most importantly, it is really straightforward to interpret."
   ]
  },
  {
   "cell_type": "markdown",
   "id": "19e3e815",
   "metadata": {},
   "source": [
    "## Import Packages"
   ]
  },
  {
   "cell_type": "code",
   "execution_count": 2,
   "id": "9517dc45",
   "metadata": {},
   "outputs": [],
   "source": [
    "#Locate imported packages\n",
    "import sys\n",
    "sys.path\n",
    "\n",
    "#import pandas and numpy\n",
    "import pandas as pd\n",
    "import numpy as np\n",
    "\n",
    "# From matplotlib, import pyplot under the alias plt\n",
    "from matplotlib import pyplot as plt\n",
    "\n",
    "#Import Seaborn\n",
    "import seaborn as sns\n",
    "\n",
    "#Import statsmodels ols function\n",
    "from statsmodels.formula.api import ols\n",
    "\n",
    "import ipywidgets as widgets\n",
    "from ipywidgets import interact, interact_manual"
   ]
  },
  {
   "cell_type": "markdown",
   "id": "80eb3e22",
   "metadata": {},
   "source": [
    "## Import & Inspect Dataset"
   ]
  },
  {
   "cell_type": "code",
   "execution_count": 3,
   "id": "7e4780ed",
   "metadata": {},
   "outputs": [
    {
     "name": "stdout",
     "output_type": "stream",
     "text": [
      "   NewVolSales  Base_Price  Radio   InStore NewspaperInserts  Discount  \\\n",
      "0        19564   15.029276   245.0   15.452              NaN     0.000   \n",
      "1        19387   15.029276   314.0   16.388              NaN     0.000   \n",
      "2        23889   14.585093   324.0   62.692              NaN     0.050   \n",
      "3        20055   15.332887   298.0   16.573              NaN     0.000   \n",
      "4        20064   15.642632   279.0   41.504              NaN     0.045   \n",
      "\n",
      "           TV    Stout Website_Campaign   \n",
      "0  101.780000  2.28342               NaN  \n",
      "1   76.734000  2.22134               NaN  \n",
      "2  131.590200  2.00604               NaN  \n",
      "3  119.627060  2.19897               NaN  \n",
      "4  103.438118  1.81860               NaN  \n"
     ]
    }
   ],
   "source": [
    "#Import data\n",
    "df = pd.read_csv(\"datasets/mktmix.csv\")\n",
    "\n",
    "print(df.head(5))"
   ]
  },
  {
   "cell_type": "code",
   "execution_count": 4,
   "id": "77e4afa2",
   "metadata": {},
   "outputs": [
    {
     "name": "stdout",
     "output_type": "stream",
     "text": [
      "<class 'pandas.core.frame.DataFrame'>\n",
      "RangeIndex: 104 entries, 0 to 103\n",
      "Data columns (total 9 columns):\n",
      " #   Column             Non-Null Count  Dtype  \n",
      "---  ------             --------------  -----  \n",
      " 0   NewVolSales        104 non-null    int64  \n",
      " 1   Base_Price         104 non-null    float64\n",
      " 2   Radio              100 non-null    float64\n",
      " 3   InStore            104 non-null    float64\n",
      " 4   NewspaperInserts   6 non-null      object \n",
      " 5   Discount           104 non-null    float64\n",
      " 6   TV                 104 non-null    float64\n",
      " 7   Stout              104 non-null    float64\n",
      " 8   Website_Campaign   14 non-null     object \n",
      "dtypes: float64(6), int64(1), object(2)\n",
      "memory usage: 7.4+ KB\n",
      "None\n"
     ]
    }
   ],
   "source": [
    "# Check column data types and check for non-missing values\n",
    "print(df.info())"
   ]
  },
  {
   "cell_type": "markdown",
   "id": "4d745f30",
   "metadata": {},
   "source": [
    "We have null values on the Radio, NewspaperInserts, and Website_Campaign columns."
   ]
  },
  {
   "cell_type": "code",
   "execution_count": 5,
   "id": "2489667f",
   "metadata": {},
   "outputs": [
    {
     "name": "stdout",
     "output_type": "stream",
     "text": [
      "        NewVolSales  Base_Price      Radio      InStore    Discount  \\\n",
      "count    104.000000  104.000000  100.000000  104.000000  104.000000   \n",
      "mean   20171.067308   15.306740  256.690000   32.918567    0.022059   \n",
      "std     1578.604670    0.528902   86.994682   13.682570    0.027668   \n",
      "min    17431.000000   13.735724    0.000000   10.782000    0.000000   \n",
      "25%    19048.750000   15.029276  235.000000   22.183750    0.000000   \n",
      "50%    19943.500000   15.332887  278.500000   31.161500    0.000000   \n",
      "75%    20942.750000   15.642632  313.250000   41.079000    0.049423   \n",
      "max    24944.000000   16.281020  399.000000   68.119000    0.090763   \n",
      "\n",
      "               TV       Stout  \n",
      "count  104.000000  104.000000  \n",
      "mean   141.009774    2.545966  \n",
      "std     42.949231    0.310070  \n",
      "min     37.656174    1.818600  \n",
      "25%    117.108343    2.316450  \n",
      "50%    138.581542    2.502120  \n",
      "75%    175.681780    2.814315  \n",
      "max    240.291967    3.158620  \n"
     ]
    }
   ],
   "source": [
    "# Check Summary statistics\n",
    "print(df.describe())"
   ]
  },
  {
   "cell_type": "code",
   "execution_count": 6,
   "id": "4b5e03ac",
   "metadata": {},
   "outputs": [
    {
     "name": "stdout",
     "output_type": "stream",
     "text": [
      "['NewVolSales', 'Base_Price', 'Radio ', 'InStore', 'NewspaperInserts', 'Discount', 'TV', 'Stout', 'Website_Campaign ']\n"
     ]
    }
   ],
   "source": [
    "#display all column names of DataFrame - check were imported correctly\n",
    "print(df.columns.tolist())"
   ]
  },
  {
   "cell_type": "markdown",
   "id": "624e51d1",
   "metadata": {},
   "source": [
    "Radio has extra whitespace in the name. It's good to get rid of this or it will cause problems later."
   ]
  },
  {
   "cell_type": "code",
   "execution_count": 7,
   "id": "cd4c5098",
   "metadata": {},
   "outputs": [],
   "source": [
    "# remove extra whitespace\n",
    "df.columns = df.columns.str.replace(' ', '')"
   ]
  },
  {
   "cell_type": "code",
   "execution_count": 8,
   "id": "26c8f84b",
   "metadata": {},
   "outputs": [
    {
     "name": "stdout",
     "output_type": "stream",
     "text": [
      "['NewVolSales', 'Base_Price', 'Radio', 'InStore', 'NewspaperInserts', 'Discount', 'TV', 'Stout', 'Website_Campaign']\n"
     ]
    }
   ],
   "source": [
    "#Let's print the results of the removal\n",
    "print(df.columns.tolist())"
   ]
  },
  {
   "cell_type": "markdown",
   "id": "c1a3b11e",
   "metadata": {},
   "source": [
    "The column names look good so we can continue."
   ]
  },
  {
   "cell_type": "markdown",
   "id": "ec210aa0",
   "metadata": {},
   "source": [
    "## Imputation of missing values "
   ]
  },
  {
   "cell_type": "code",
   "execution_count": 9,
   "id": "97882047",
   "metadata": {},
   "outputs": [],
   "source": [
    "# filling missing value using fillna(). We will impute with zero to keep it simple.\n",
    "df = df.fillna(0)"
   ]
  },
  {
   "cell_type": "markdown",
   "id": "2de44675",
   "metadata": {},
   "source": [
    "\n",
    "***"
   ]
  },
  {
   "cell_type": "markdown",
   "id": "05c06369",
   "metadata": {},
   "source": [
    "## Exploratory Data Analysis & Visualization"
   ]
  },
  {
   "cell_type": "code",
   "execution_count": 70,
   "id": "bf2cb710",
   "metadata": {},
   "outputs": [
    {
     "data": {
      "image/png": "[encoded data removed]",
      "text/plain": [
       "<Figure size 432x288 with 9 Axes>"
      ]
     },
     "metadata": {},
     "output_type": "display_data"
    }
   ],
   "source": [
    "# Set the color palette\n",
    "sns.set_palette(sns.color_palette(\"vlag\"))\n",
    "\n",
    "#Initialize subplots with number of rows and number of columns\n",
    "figure, ax = plt.subplots(nrows = 3, ncols = 3)\n",
    "\n",
    "#See the distribution of the data\n",
    "sns.histplot(data=df, x=\"NewVolSales\", bins=10, ax=ax[0,0])\n",
    "sns.scatterplot(data=df, x=\"Base_Price\", y=\"NewVolSales\", ax=ax[0,1])\n",
    "sns.scatterplot(data=df, x=\"Radio\", y=\"NewVolSales\", ax=ax[0,2])\n",
    "sns.scatterplot(data=df, x=\"InStore\", y=\"NewVolSales\", ax=ax[1,0])\n",
    "sns.boxplot(data=df, x=\"NewspaperInserts\", y=\"NewVolSales\", ax=ax[1,1])\n",
    "sns.scatterplot(data=df, x=\"Discount\", y=\"NewVolSales\", ax=ax[1,2])\n",
    "sns.scatterplot(data=df, x=\"TV\", y=\"NewVolSales\", hue=\"NewspaperInserts\", legend = False, ax=ax[2,0])\n",
    "sns.scatterplot(data=df, x=\"Stout\", y=\"NewVolSales\", ax=ax[2,1])\n",
    "#sns.boxplot(data=df, x=\"Website_Campaign\", y=\"NewVolSales\", ax=ax[2,2].tick_params(axis='x', rotation=45))\n",
    "\n",
    "plt.tight_layout()\n",
    "\n",
    "#Save plot\n",
    "plt.savefig('EDA.png', bbox_inches='tight')\n",
    "\n",
    "#Show plot\n",
    "plt.show()"
   ]
  },
  {
   "cell_type": "code",
   "execution_count": 68,
   "id": "3e9e877e",
   "metadata": {},
   "outputs": [
    {
     "data": {
      "image/png": "[encoded data removed]",
      "text/plain": [
       "<Figure size 432x288 with 1 Axes>"
      ]
     },
     "metadata": {},
     "output_type": "display_data"
    }
   ],
   "source": [
    "#Horizontal boxplot must flip the x and y variable\n",
    "sns.boxplot(data=df, x=\"NewVolSales\", y=\"Website_Campaign\", orient=\"h\", palette=\"vlag\")\n",
    "\n",
    "#Save plot\n",
    "plt.savefig('Website_Camp.png', bbox_inches='tight')\n",
    "\n",
    "#Show plot\n",
    "plt.show()"
   ]
  },
  {
   "cell_type": "markdown",
   "id": "31af15a1",
   "metadata": {},
   "source": [
    "**<font color=green>Insights from the data visualization</font>**\n",
    "1. Higher sales when the base price is low. Less sales when base price is high.\n",
    "2. The price of the product and stout seems to have a negative impact on sales. Not sure what stout refers to. \n",
    "3. Both radio and in-store seems to have some impact. More sales with radio spending and in-store is high. \n",
    "4. Newspaper insert doesn't appear to have any significant impact."
   ]
  },
  {
   "cell_type": "markdown",
   "id": "ecf09e5e",
   "metadata": {},
   "source": [
    "## Correlation Analysis"
   ]
  },
  {
   "cell_type": "code",
   "execution_count": 12,
   "id": "1b42258d",
   "metadata": {},
   "outputs": [
    {
     "name": "stdout",
     "output_type": "stream",
     "text": [
      "             NewVolSales  Base_Price     Radio   InStore  Discount        TV  \\\n",
      "NewVolSales     1.000000   -0.729258  0.116513  0.441627  0.424761  0.145308   \n",
      "Base_Price     -0.729258    1.000000 -0.109777 -0.230751 -0.189975  0.065872   \n",
      "Radio           0.116513   -0.109777  1.000000 -0.095449 -0.019473 -0.097410   \n",
      "InStore         0.441627   -0.230751 -0.095449  1.000000  0.719376 -0.015759   \n",
      "Discount        0.424761   -0.189975 -0.019473  0.719376  1.000000  0.115074   \n",
      "TV              0.145308    0.065872 -0.097410 -0.015759  0.115074  1.000000   \n",
      "Stout          -0.375905   -0.027607 -0.209548  0.025108 -0.025555 -0.126546   \n",
      "\n",
      "                Stout  \n",
      "NewVolSales -0.375905  \n",
      "Base_Price  -0.027607  \n",
      "Radio       -0.209548  \n",
      "InStore      0.025108  \n",
      "Discount    -0.025555  \n",
      "TV          -0.126546  \n",
      "Stout        1.000000  \n"
     ]
    }
   ],
   "source": [
    "#Correlation Matrix\n",
    "corr = df.corr()\n",
    "print(corr)"
   ]
  },
  {
   "cell_type": "markdown",
   "id": "abdf2f23",
   "metadata": {},
   "source": [
    "Correlation thresholds (Cohen's Rule of Thumb)\n",
    "\n",
    "r >= 0.5 large or strong association\n",
    "r = 0.3 medium association\n",
    "r = 0.1 small or weak association\n",
    "\n",
    "If the underlying data distribution is not normal, then you could/should transform your variables before attempting to apply these thresholds."
   ]
  },
  {
   "cell_type": "code",
   "execution_count": 71,
   "id": "78511317",
   "metadata": {
    "scrolled": true
   },
   "outputs": [
    {
     "data": {
      "text/html": [
       "<style type=\"text/css\">\n",
       "#T_ffeae_row0_col0, #T_ffeae_row1_col1, #T_ffeae_row2_col2, #T_ffeae_row3_col3, #T_ffeae_row4_col4, #T_ffeae_row5_col5, #T_ffeae_row6_col6 {\n",
       "  background-color: #053061;\n",
       "  color: #f1f1f1;\n",
       "}\n",
       "#T_ffeae_row0_col1, #T_ffeae_row0_col6, #T_ffeae_row1_col0, #T_ffeae_row1_col3, #T_ffeae_row1_col4, #T_ffeae_row6_col2, #T_ffeae_row6_col5 {\n",
       "  background-color: #67001f;\n",
       "  color: #f1f1f1;\n",
       "}\n",
       "#T_ffeae_row0_col2 {\n",
       "  background-color: #eb9172;\n",
       "  color: #f1f1f1;\n",
       "}\n",
       "#T_ffeae_row0_col3 {\n",
       "  background-color: #e6eff4;\n",
       "  color: #000000;\n",
       "}\n",
       "#T_ffeae_row0_col4 {\n",
       "  background-color: #f0f4f6;\n",
       "  color: #000000;\n",
       "}\n",
       "#T_ffeae_row0_col5 {\n",
       "  background-color: #e27b62;\n",
       "  color: #f1f1f1;\n",
       "}\n",
       "#T_ffeae_row1_col2 {\n",
       "  background-color: #a51429;\n",
       "  color: #f1f1f1;\n",
       "}\n",
       "#T_ffeae_row1_col5 {\n",
       "  background-color: #cb4942;\n",
       "  color: #f1f1f1;\n",
       "}\n",
       "#T_ffeae_row1_col6 {\n",
       "  background-color: #e58368;\n",
       "  color: #f1f1f1;\n",
       "}\n",
       "#T_ffeae_row2_col0 {\n",
       "  background-color: #f8f4f2;\n",
       "  color: #000000;\n",
       "}\n",
       "#T_ffeae_row2_col1 {\n",
       "  background-color: #f9c4a9;\n",
       "  color: #000000;\n",
       "}\n",
       "#T_ffeae_row2_col3 {\n",
       "  background-color: #b61f2e;\n",
       "  color: #f1f1f1;\n",
       "}\n",
       "#T_ffeae_row2_col4 {\n",
       "  background-color: #c13639;\n",
       "  color: #f1f1f1;\n",
       "}\n",
       "#T_ffeae_row2_col5 {\n",
       "  background-color: #790622;\n",
       "  color: #f1f1f1;\n",
       "}\n",
       "#T_ffeae_row2_col6 {\n",
       "  background-color: #b82531;\n",
       "  color: #f1f1f1;\n",
       "}\n",
       "#T_ffeae_row3_col0 {\n",
       "  background-color: #a0cce2;\n",
       "  color: #000000;\n",
       "}\n",
       "#T_ffeae_row3_col1 {\n",
       "  background-color: #f09c7b;\n",
       "  color: #000000;\n",
       "}\n",
       "#T_ffeae_row3_col2 {\n",
       "  background-color: #ae172a;\n",
       "  color: #f1f1f1;\n",
       "}\n",
       "#T_ffeae_row3_col4 {\n",
       "  background-color: #5fa5cd;\n",
       "  color: #f1f1f1;\n",
       "}\n",
       "#T_ffeae_row3_col5 {\n",
       "  background-color: #b1182b;\n",
       "  color: #f1f1f1;\n",
       "}\n",
       "#T_ffeae_row3_col6 {\n",
       "  background-color: #f19e7d;\n",
       "  color: #000000;\n",
       "}\n",
       "#T_ffeae_row4_col0 {\n",
       "  background-color: #a7d0e4;\n",
       "  color: #000000;\n",
       "}\n",
       "#T_ffeae_row4_col1 {\n",
       "  background-color: #f5aa89;\n",
       "  color: #000000;\n",
       "}\n",
       "#T_ffeae_row4_col2 {\n",
       "  background-color: #c6413e;\n",
       "  color: #f1f1f1;\n",
       "}\n",
       "#T_ffeae_row4_col3 {\n",
       "  background-color: #59a1ca;\n",
       "  color: #f1f1f1;\n",
       "}\n",
       "#T_ffeae_row4_col5 {\n",
       "  background-color: #da6853;\n",
       "  color: #f1f1f1;\n",
       "}\n",
       "#T_ffeae_row4_col6, #T_ffeae_row5_col4 {\n",
       "  background-color: #e6866a;\n",
       "  color: #f1f1f1;\n",
       "}\n",
       "#T_ffeae_row5_col0 {\n",
       "  background-color: #f5f6f7;\n",
       "  color: #000000;\n",
       "}\n",
       "#T_ffeae_row5_col1 {\n",
       "  background-color: #f9ebe3;\n",
       "  color: #000000;\n",
       "}\n",
       "#T_ffeae_row5_col2 {\n",
       "  background-color: #ab162a;\n",
       "  color: #f1f1f1;\n",
       "}\n",
       "#T_ffeae_row5_col3 {\n",
       "  background-color: #cc4c44;\n",
       "  color: #f1f1f1;\n",
       "}\n",
       "#T_ffeae_row5_col6 {\n",
       "  background-color: #cf5246;\n",
       "  color: #f1f1f1;\n",
       "}\n",
       "#T_ffeae_row6_col0 {\n",
       "  background-color: #d7634f;\n",
       "  color: #f1f1f1;\n",
       "}\n",
       "#T_ffeae_row6_col1 {\n",
       "  background-color: #fddcc9;\n",
       "  color: #000000;\n",
       "}\n",
       "#T_ffeae_row6_col3 {\n",
       "  background-color: #d86551;\n",
       "  color: #f1f1f1;\n",
       "}\n",
       "#T_ffeae_row6_col4 {\n",
       "  background-color: #bf3338;\n",
       "  color: #f1f1f1;\n",
       "}\n",
       "</style>\n",
       "<table id=\"T_ffeae\">\n",
       "  <thead>\n",
       "    <tr>\n",
       "      <th class=\"blank level0\" >&nbsp;</th>\n",
       "      <th id=\"T_ffeae_level0_col0\" class=\"col_heading level0 col0\" >NewVolSales</th>\n",
       "      <th id=\"T_ffeae_level0_col1\" class=\"col_heading level0 col1\" >Base_Price</th>\n",
       "      <th id=\"T_ffeae_level0_col2\" class=\"col_heading level0 col2\" >Radio</th>\n",
       "      <th id=\"T_ffeae_level0_col3\" class=\"col_heading level0 col3\" >InStore</th>\n",
       "      <th id=\"T_ffeae_level0_col4\" class=\"col_heading level0 col4\" >Discount</th>\n",
       "      <th id=\"T_ffeae_level0_col5\" class=\"col_heading level0 col5\" >TV</th>\n",
       "      <th id=\"T_ffeae_level0_col6\" class=\"col_heading level0 col6\" >Stout</th>\n",
       "    </tr>\n",
       "  </thead>\n",
       "  <tbody>\n",
       "    <tr>\n",
       "      <th id=\"T_ffeae_level0_row0\" class=\"row_heading level0 row0\" >NewVolSales</th>\n",
       "      <td id=\"T_ffeae_row0_col0\" class=\"data row0 col0\" >1.000000</td>\n",
       "      <td id=\"T_ffeae_row0_col1\" class=\"data row0 col1\" >-0.729258</td>\n",
       "      <td id=\"T_ffeae_row0_col2\" class=\"data row0 col2\" >0.116513</td>\n",
       "      <td id=\"T_ffeae_row0_col3\" class=\"data row0 col3\" >0.441627</td>\n",
       "      <td id=\"T_ffeae_row0_col4\" class=\"data row0 col4\" >0.424761</td>\n",
       "      <td id=\"T_ffeae_row0_col5\" class=\"data row0 col5\" >0.145308</td>\n",
       "      <td id=\"T_ffeae_row0_col6\" class=\"data row0 col6\" >-0.375905</td>\n",
       "    </tr>\n",
       "    <tr>\n",
       "      <th id=\"T_ffeae_level0_row1\" class=\"row_heading level0 row1\" >Base_Price</th>\n",
       "      <td id=\"T_ffeae_row1_col0\" class=\"data row1 col0\" >-0.729258</td>\n",
       "      <td id=\"T_ffeae_row1_col1\" class=\"data row1 col1\" >1.000000</td>\n",
       "      <td id=\"T_ffeae_row1_col2\" class=\"data row1 col2\" >-0.109777</td>\n",
       "      <td id=\"T_ffeae_row1_col3\" class=\"data row1 col3\" >-0.230751</td>\n",
       "      <td id=\"T_ffeae_row1_col4\" class=\"data row1 col4\" >-0.189975</td>\n",
       "      <td id=\"T_ffeae_row1_col5\" class=\"data row1 col5\" >0.065872</td>\n",
       "      <td id=\"T_ffeae_row1_col6\" class=\"data row1 col6\" >-0.027607</td>\n",
       "    </tr>\n",
       "    <tr>\n",
       "      <th id=\"T_ffeae_level0_row2\" class=\"row_heading level0 row2\" >Radio</th>\n",
       "      <td id=\"T_ffeae_row2_col0\" class=\"data row2 col0\" >0.116513</td>\n",
       "      <td id=\"T_ffeae_row2_col1\" class=\"data row2 col1\" >-0.109777</td>\n",
       "      <td id=\"T_ffeae_row2_col2\" class=\"data row2 col2\" >1.000000</td>\n",
       "      <td id=\"T_ffeae_row2_col3\" class=\"data row2 col3\" >-0.095449</td>\n",
       "      <td id=\"T_ffeae_row2_col4\" class=\"data row2 col4\" >-0.019473</td>\n",
       "      <td id=\"T_ffeae_row2_col5\" class=\"data row2 col5\" >-0.097410</td>\n",
       "      <td id=\"T_ffeae_row2_col6\" class=\"data row2 col6\" >-0.209548</td>\n",
       "    </tr>\n",
       "    <tr>\n",
       "      <th id=\"T_ffeae_level0_row3\" class=\"row_heading level0 row3\" >InStore</th>\n",
       "      <td id=\"T_ffeae_row3_col0\" class=\"data row3 col0\" >0.441627</td>\n",
       "      <td id=\"T_ffeae_row3_col1\" class=\"data row3 col1\" >-0.230751</td>\n",
       "      <td id=\"T_ffeae_row3_col2\" class=\"data row3 col2\" >-0.095449</td>\n",
       "      <td id=\"T_ffeae_row3_col3\" class=\"data row3 col3\" >1.000000</td>\n",
       "      <td id=\"T_ffeae_row3_col4\" class=\"data row3 col4\" >0.719376</td>\n",
       "      <td id=\"T_ffeae_row3_col5\" class=\"data row3 col5\" >-0.015759</td>\n",
       "      <td id=\"T_ffeae_row3_col6\" class=\"data row3 col6\" >0.025108</td>\n",
       "    </tr>\n",
       "    <tr>\n",
       "      <th id=\"T_ffeae_level0_row4\" class=\"row_heading level0 row4\" >Discount</th>\n",
       "      <td id=\"T_ffeae_row4_col0\" class=\"data row4 col0\" >0.424761</td>\n",
       "      <td id=\"T_ffeae_row4_col1\" class=\"data row4 col1\" >-0.189975</td>\n",
       "      <td id=\"T_ffeae_row4_col2\" class=\"data row4 col2\" >-0.019473</td>\n",
       "      <td id=\"T_ffeae_row4_col3\" class=\"data row4 col3\" >0.719376</td>\n",
       "      <td id=\"T_ffeae_row4_col4\" class=\"data row4 col4\" >1.000000</td>\n",
       "      <td id=\"T_ffeae_row4_col5\" class=\"data row4 col5\" >0.115074</td>\n",
       "      <td id=\"T_ffeae_row4_col6\" class=\"data row4 col6\" >-0.025555</td>\n",
       "    </tr>\n",
       "    <tr>\n",
       "      <th id=\"T_ffeae_level0_row5\" class=\"row_heading level0 row5\" >TV</th>\n",
       "      <td id=\"T_ffeae_row5_col0\" class=\"data row5 col0\" >0.145308</td>\n",
       "      <td id=\"T_ffeae_row5_col1\" class=\"data row5 col1\" >0.065872</td>\n",
       "      <td id=\"T_ffeae_row5_col2\" class=\"data row5 col2\" >-0.097410</td>\n",
       "      <td id=\"T_ffeae_row5_col3\" class=\"data row5 col3\" >-0.015759</td>\n",
       "      <td id=\"T_ffeae_row5_col4\" class=\"data row5 col4\" >0.115074</td>\n",
       "      <td id=\"T_ffeae_row5_col5\" class=\"data row5 col5\" >1.000000</td>\n",
       "      <td id=\"T_ffeae_row5_col6\" class=\"data row5 col6\" >-0.126546</td>\n",
       "    </tr>\n",
       "    <tr>\n",
       "      <th id=\"T_ffeae_level0_row6\" class=\"row_heading level0 row6\" >Stout</th>\n",
       "      <td id=\"T_ffeae_row6_col0\" class=\"data row6 col0\" >-0.375905</td>\n",
       "      <td id=\"T_ffeae_row6_col1\" class=\"data row6 col1\" >-0.027607</td>\n",
       "      <td id=\"T_ffeae_row6_col2\" class=\"data row6 col2\" >-0.209548</td>\n",
       "      <td id=\"T_ffeae_row6_col3\" class=\"data row6 col3\" >0.025108</td>\n",
       "      <td id=\"T_ffeae_row6_col4\" class=\"data row6 col4\" >-0.025555</td>\n",
       "      <td id=\"T_ffeae_row6_col5\" class=\"data row6 col5\" >-0.126546</td>\n",
       "      <td id=\"T_ffeae_row6_col6\" class=\"data row6 col6\" >1.000000</td>\n",
       "    </tr>\n",
       "  </tbody>\n",
       "</table>\n"
      ],
      "text/plain": [
       "<pandas.io.formats.style.Styler at 0x7f79ca2ba640>"
      ]
     },
     "execution_count": 71,
     "metadata": {},
     "output_type": "execute_result"
    }
   ],
   "source": [
    "corr.style.background_gradient(cmap='RdBu')"
   ]
  },
  {
   "cell_type": "markdown",
   "id": "71bca147",
   "metadata": {},
   "source": [
    "We have the correlation coefficients in each box. Strong positive correlations are in green. Strong negative correlations are in red.\n",
    "\n",
    "For the purpose of our analysis, we will just focus on the relationship between NewVolSales and each independent (x) variable.\n",
    "\n",
    "Instore and discount both have a medium positive correlation to NewVolSales.Radio and TV have a weak positive correlation to NewvolSales.\n",
    "\n",
    "Price has a strong negative correlation to NewVolSales.\n",
    "\n",
    "Last, but not least, Stout has a medium negative correlation to NewVolSales."
   ]
  },
  {
   "cell_type": "markdown",
   "id": "42a876f4",
   "metadata": {},
   "source": [
    "**NOTE:** The coefficient of determination is our correlation coefficient squared. It is the proportion of the variance in the y variable that is predictable from our x variable."
   ]
  },
  {
   "cell_type": "markdown",
   "id": "2d93d16d",
   "metadata": {},
   "source": [
    "### How are correlation and regression related?"
   ]
  },
  {
   "cell_type": "code",
   "execution_count": 72,
   "id": "6d2c75db",
   "metadata": {},
   "outputs": [
    {
     "name": "stdout",
     "output_type": "stream",
     "text": [
      "The correlation coefficient for NewVol Sales and Discount is 0.42. When we square this we get 0.18, the correlation coefficient squared.\n"
     ]
    }
   ],
   "source": [
    "corr_coeff = round(df['NewVolSales'].corr(df['Discount']),2)\n",
    "corr_coeff_sq = round(df['NewVolSales'].corr(df['Discount'])**2,2)\n",
    "\n",
    "print(\"The correlation coefficient for NewVol Sales and Discount is {}. When we square this we get {}, the correlation coefficient squared.\".format(corr_coeff, corr_coeff_sq))"
   ]
  },
  {
   "cell_type": "code",
   "execution_count": 73,
   "id": "eb6afa98",
   "metadata": {},
   "outputs": [
    {
     "name": "stdout",
     "output_type": "stream",
     "text": [
      "                            OLS Regression Results                            \n",
      "==============================================================================\n",
      "Dep. Variable:            NewVolSales   R-squared:                       0.180\n",
      "Model:                            OLS   Adj. R-squared:                  0.172\n",
      "Method:                 Least Squares   F-statistic:                     22.45\n",
      "Date:                Mon, 06 Jun 2022   Prob (F-statistic):           6.99e-06\n",
      "Time:                        09:17:44   Log-Likelihood:                -902.61\n",
      "No. Observations:                 104   AIC:                             1809.\n",
      "Df Residuals:                     102   BIC:                             1815.\n",
      "Df Model:                           1                                         \n",
      "Covariance Type:            nonrobust                                         \n",
      "==============================================================================\n",
      "                 coef    std err          t      P>|t|      [0.025      0.975]\n",
      "------------------------------------------------------------------------------\n",
      "Intercept   1.964e+04    180.439    108.826      0.000    1.93e+04       2e+04\n",
      "Discount    2.423e+04   5114.357      4.739      0.000    1.41e+04    3.44e+04\n",
      "==============================================================================\n",
      "Omnibus:                        8.199   Durbin-Watson:                   0.848\n",
      "Prob(Omnibus):                  0.017   Jarque-Bera (JB):                8.082\n",
      "Skew:                           0.673   Prob(JB):                       0.0176\n",
      "Kurtosis:                       3.227   Cond. No.                         36.3\n",
      "==============================================================================\n",
      "\n",
      "Notes:\n",
      "[1] Standard Errors assume that the covariance matrix of the errors is correctly specified.\n"
     ]
    }
   ],
   "source": [
    "# Create the model object\n",
    "sales_vs_discount = ols(\"NewVolSales ~ Discount\", data=df)\n",
    "\n",
    "# Fit the model\n",
    "sales_vs_discount = sales_vs_discount.fit()\n",
    " \n",
    "# Print summary table of model fit\n",
    "print(sales_vs_discount.summary())"
   ]
  },
  {
   "cell_type": "markdown",
   "id": "f5bd8874",
   "metadata": {},
   "source": [
    "The r-squared from our linear model is 0.180 which is the same result we got when we squared the correlation coefficient above."
   ]
  },
  {
   "cell_type": "markdown",
   "id": "e11feaa2",
   "metadata": {},
   "source": [
    "***"
   ]
  },
  {
   "cell_type": "markdown",
   "id": "25778d55",
   "metadata": {},
   "source": [
    "# Marketing Mix Modeling"
   ]
  },
  {
   "cell_type": "markdown",
   "id": "587bab3c",
   "metadata": {},
   "source": [
    "Let's test for significance all the variables in our dataset."
   ]
  },
  {
   "cell_type": "code",
   "execution_count": 74,
   "id": "d1c13fc9",
   "metadata": {},
   "outputs": [
    {
     "name": "stdout",
     "output_type": "stream",
     "text": [
      "                            OLS Regression Results                            \n",
      "==============================================================================\n",
      "Dep. Variable:            NewVolSales   R-squared:                       0.834\n",
      "Model:                            OLS   Adj. R-squared:                  0.816\n",
      "Method:                 Least Squares   F-statistic:                     46.63\n",
      "Date:                Mon, 06 Jun 2022   Prob (F-statistic):           6.91e-32\n",
      "Time:                        09:17:44   Log-Likelihood:                -819.66\n",
      "No. Observations:                 104   AIC:                             1661.\n",
      "Df Residuals:                      93   BIC:                             1690.\n",
      "Df Model:                          10                                         \n",
      "Covariance Type:            nonrobust                                         \n",
      "=========================================================================================================\n",
      "                                            coef    std err          t      P>|t|      [0.025      0.975]\n",
      "---------------------------------------------------------------------------------------------------------\n",
      "Intercept                              5.439e+04   2278.795     23.870      0.000    4.99e+04    5.89e+04\n",
      "NewspaperInserts[T.Insert]              159.0085    289.054      0.550      0.584    -414.996     733.013\n",
      "Website_Campaign[T.Facebook]            239.8193    362.660      0.661      0.510    -480.352     959.990\n",
      "Website_Campaign[T.Twitter]             468.7707    362.991      1.291      0.200    -252.058    1189.600\n",
      "Website_Campaign[T.Website Campaign ] -1273.3869    315.438     -4.037      0.000   -1899.785    -646.989\n",
      "Base_Price                            -2056.8098    136.781    -15.037      0.000   -2328.430   -1785.189\n",
      "Radio                                    -0.2801      0.721     -0.388      0.699      -1.713       1.152\n",
      "InStore                                  28.6341      7.384      3.878      0.000      13.972      43.296\n",
      "Discount                               5554.2422   3618.164      1.535      0.128   -1630.715    1.27e+04\n",
      "TV                                        3.2233      1.687      1.910      0.059      -0.128       6.574\n",
      "Stout                                 -1631.4978    235.961     -6.914      0.000   -2100.069   -1162.927\n",
      "==============================================================================\n",
      "Omnibus:                        2.112   Durbin-Watson:                   1.500\n",
      "Prob(Omnibus):                  0.348   Jarque-Bera (JB):                1.546\n",
      "Skew:                           0.257   Prob(JB):                        0.462\n",
      "Kurtosis:                       3.305   Cond. No.                     1.63e+04\n",
      "==============================================================================\n",
      "\n",
      "Notes:\n",
      "[1] Standard Errors assume that the covariance matrix of the errors is correctly specified.\n",
      "[2] The condition number is large, 1.63e+04. This might indicate that there are\n",
      "strong multicollinearity or other numerical problems.\n"
     ]
    }
   ],
   "source": [
    "# Create the model object\n",
    "mkmix_model = ols(\"NewVolSales ~ Base_Price + Radio + InStore + NewspaperInserts + Discount + TV + Stout + Website_Campaign\", data=df)\n",
    "\n",
    "# Fit the model\n",
    "mkmix_model = mkmix_model.fit()\n",
    "\n",
    "# Print the summary of the fitted model\n",
    "print(mkmix_model.summary())"
   ]
  },
  {
   "cell_type": "markdown",
   "id": "1c5569d8",
   "metadata": {},
   "source": [
    "## **What can we derive from our correlation analysis and how can we use this to inform marketing?**"
   ]
  },
  {
   "cell_type": "markdown",
   "id": "a9a5bb82",
   "metadata": {},
   "source": [
    "For the purpose of our analysis, we will just focus on the relationship between NewVolSales and each independent (x) variable.\n",
    "\n",
    "1. What's **not working** in marketing?:\n",
    "\n",
    "Price  - significant. We lose money when we increase the base price.\n",
    "\n",
    "Stout - significant\n",
    "\n",
    "2. What is **working** with marketing?:\n",
    "\n",
    "Instore - significant\n",
    "\n",
    "3. What is **not impactful?**:\n",
    "\n",
    "Radio - not significant\n",
    "\n",
    "TV - not significant\n",
    "\n",
    "Discount - not significant\n",
    "\n",
    "\n",
    ">You should at this point have a conversation with your marketing stakeholders to understand their marketing goals and tactics for each of their marketing initiatives. There may be different goals for different initiatives. For instance, if marketing is using Radio and TV for top-funnel activities, then what we see in the data makes sense. Radio and TV are great for branding, but may have less of an impact on bottom-funnel metrics like sales."
   ]
  },
  {
   "cell_type": "markdown",
   "id": "35e7a424",
   "metadata": {},
   "source": [
    "With our correlation analysis we have derived some key insights into\n",
    "what is working and what isn't working when it comes to increased sales.\n",
    "Now, it's up to you to go further in your analysis which could include:\n",
    "\n",
    "1.  Adding in additional factors that were not included initially.\n",
    "\n",
    "2.  Quantifying the impact of each marketing effort (e.g. ROI).\n",
    "\n",
    "3.  Build a future forecast based on current levels of marketing spend\n",
    "    and promotions."
   ]
  }
 ],
 "metadata": {
  "kernelspec": {
   "display_name": "Python 3 (ipykernel)",
   "language": "python",
   "name": "python3"
  },
  "language_info": {
   "codemirror_mode": {
    "name": "ipython",
    "version": 3
   },
   "file_extension": ".py",
   "mimetype": "text/x-python",
   "name": "python",
   "nbconvert_exporter": "python",
   "pygments_lexer": "ipython3",
   "version": "3.9.7"
  }
 },
 "nbformat": 4,
 "nbformat_minor": 5
}
