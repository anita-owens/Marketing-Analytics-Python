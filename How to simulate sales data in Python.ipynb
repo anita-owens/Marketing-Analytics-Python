{
 "cells": [
  {
   "cell_type": "markdown",
   "id": "e420ade6",
   "metadata": {},
   "source": [
    "# How to simulate sales data in Python"
   ]
  },
  {
   "cell_type": "markdown",
   "id": "0d5d7ea2",
   "metadata": {},
   "source": [
    "Why simulate data?\n",
    "\n",
    "Have you ever spent an inordinate amount of time looking for the right\n",
    "data set to try out an analytical technique, but you don't quite find\n",
    "what you are looking for.\n",
    "\n",
    "Well, why not just create your own dataset for maximum flexibility which\n",
    "gives you a few advantages:\n",
    "\n",
    "1.  To test your analysis to make sure it's working.\n",
    "2.  To make changes to your dataset to see what happens and how your\n",
    "    conclusions might change based on different parameters . (e.g. How\n",
    "    sales are impacted by different levels of the price of our product)."
   ]
  },
  {
   "cell_type": "markdown",
   "id": "32b1bf78",
   "metadata": {},
   "source": [
    "## Import Packages"
   ]
  },
  {
   "cell_type": "code",
   "execution_count": 76,
   "id": "1541858a",
   "metadata": {},
   "outputs": [],
   "source": [
    "#Import pandas and numpy\n",
    "import pandas as pd\n",
    "import numpy as np\n",
    "from numpy import random\n",
    "\n",
    "# From matplotlib, import pyplot under the alias plt\n",
    "from matplotlib import pyplot as plt\n",
    "\n",
    "#Import Seaborn\n",
    "import seaborn as sns\n",
    "\n",
    "#Import datetime for working with dates\n",
    "from datetime import datetime"
   ]
  },
  {
   "cell_type": "markdown",
   "id": "9bff531a",
   "metadata": {},
   "source": [
    "## Data Simulation"
   ]
  },
  {
   "cell_type": "markdown",
   "id": "6ea0b643",
   "metadata": {},
   "source": [
    "First, we will create a skeleton data frame to hold our variables and\n",
    "initialize with 0 values for all columns except the date column.\n",
    "\n",
    "1.  Sales date (week level granularity)\n",
    "2.  Unit sales\n",
    "3.  Unit price\n",
    "4.  Paid social ads\n",
    "5.  Promotion - whether there was a promotion this week."
   ]
  },
  {
   "cell_type": "code",
   "execution_count": 77,
   "id": "1ce654b1",
   "metadata": {},
   "outputs": [],
   "source": [
    "#Set seed so that when reproducing the dataset, we get the same results.\n",
    "np.random.seed(90210)"
   ]
  },
  {
   "cell_type": "markdown",
   "id": "a5b31e9d",
   "metadata": {},
   "source": [
    "Visit https://pandas.pydata.org/docs/user_guide/timeseries.html for a list of all parameters we can use in the freq argument of the date_range function, but since we want weekly dates, we will use the freq = 'W' argument."
   ]
  },
  {
   "cell_type": "code",
   "execution_count": 78,
   "id": "3bbbd51b",
   "metadata": {},
   "outputs": [
    {
     "name": "stdout",
     "output_type": "stream",
     "text": [
      "DatetimeIndex(['2019-01-06', '2019-01-13', '2019-01-20', '2019-01-27',\n",
      "               '2019-02-03', '2019-02-10', '2019-02-17', '2019-02-24',\n",
      "               '2019-03-03', '2019-03-10', '2019-03-17', '2019-03-24',\n",
      "               '2019-03-31', '2019-04-07', '2019-04-14', '2019-04-21',\n",
      "               '2019-04-28', '2019-05-05', '2019-05-12', '2019-05-19',\n",
      "               '2019-05-26', '2019-06-02', '2019-06-09', '2019-06-16',\n",
      "               '2019-06-23', '2019-06-30', '2019-07-07', '2019-07-14',\n",
      "               '2019-07-21', '2019-07-28', '2019-08-04', '2019-08-11',\n",
      "               '2019-08-18', '2019-08-25', '2019-09-01', '2019-09-08',\n",
      "               '2019-09-15', '2019-09-22', '2019-09-29', '2019-10-06',\n",
      "               '2019-10-13', '2019-10-20', '2019-10-27', '2019-11-03',\n",
      "               '2019-11-10', '2019-11-17', '2019-11-24', '2019-12-01',\n",
      "               '2019-12-08', '2019-12-15', '2019-12-22', '2019-12-29'],\n",
      "              dtype='datetime64[ns]', freq='W-SUN')\n"
     ]
    }
   ],
   "source": [
    "#Create date sequence of 52 weeks using date_range function\n",
    "sales_date = pd.date_range('2019-01-01', periods=52, freq = 'W')\n",
    "\n",
    "#Check results\n",
    "print(sales_date)"
   ]
  },
  {
   "cell_type": "markdown",
   "id": "aeebe46e",
   "metadata": {},
   "source": [
    "We want to add weeks with marketing promotions. We can simulate promotions using the binomial distribution. The notation of the binomial distribution is B(n,p), where n is the number of experiments or trials, and p is the probability of success."
   ]
  },
  {
   "cell_type": "code",
   "execution_count": 79,
   "id": "d53ac4bc",
   "metadata": {},
   "outputs": [
    {
     "name": "stdout",
     "output_type": "stream",
     "text": [
      "[0 1 0 0 0 0 0 0 0 0 0 0 0 0 0 1 0 0 0 0 0 0 0 0 0 0 0 0 0 0 1 0 0 0 1 0 0\n",
      " 1 0 0 0 0 0 0 0 0 1 0 0 0 0 0]\n"
     ]
    }
   ],
   "source": [
    "#Create weeks where there were promotions running. 10% likelihood of a promotion\n",
    "promotion = np.random.binomial(n=1, p=0.10, size=len(sales_date))\n",
    "\n",
    "#Check results\n",
    "print(promotion)"
   ]
  },
  {
   "cell_type": "markdown",
   "id": "310270a1",
   "metadata": {},
   "source": [
    "Let's create data for the paid social ads. We want to add Paid Social values for the range of dates between July and September and again in December."
   ]
  },
  {
   "cell_type": "code",
   "execution_count": 96,
   "id": "6cc7ec59",
   "metadata": {},
   "outputs": [
    {
     "name": "stdout",
     "output_type": "stream",
     "text": [
      "[0, 0, 0, 0, 0, 0, 0, 0, 0, 0, 0, 0, 0, 0, 0, 0, 0, 0, 0, 0, 0, 0, 0, 0, 0, 0, 0, 0, 0, 0, 0, 0, 0, 0, 0, 0, 0, 0, 0, 0, 0, 0, 0, 0, 0, 0, 0, 0, 0, 0, 0, 0]\n"
     ]
    }
   ],
   "source": [
    "#Create a repeating list of 0's\n",
    "social = [0] * len(sales_date)\n",
    "\n",
    "print(social)"
   ]
  },
  {
   "cell_type": "markdown",
   "id": "1abf988c",
   "metadata": {},
   "source": [
    "Generate the product's price and place in a vector and then we'll use\n",
    "the random.choices method to randomly create prices. We will only create two (2) price points for our product. We want to use random sampling with replacement. If you wanted to use random sampling without replacement, you could use the random.sample function from the random module."
   ]
  },
  {
   "cell_type": "code",
   "execution_count": 83,
   "id": "31b62774",
   "metadata": {},
   "outputs": [
    {
     "name": "stdout",
     "output_type": "stream",
     "text": [
      "[4.5, 4.5, 4.99, 4.5, 4.5, 4.5, 4.99, 4.99, 4.5, 4.99, 4.99, 4.5, 4.5, 4.5, 4.5, 4.5, 4.99, 4.99, 4.5, 4.5, 4.5, 4.5, 4.99, 4.5, 4.5, 4.99, 4.5, 4.99, 4.99, 4.99, 4.5, 4.99, 4.99, 4.99, 4.99, 4.5, 4.99, 4.5, 4.99, 4.99, 4.99, 4.5, 4.99, 4.5, 4.5, 4.5, 4.99, 4.5, 4.5, 4.5, 4.99, 4.99]\n"
     ]
    }
   ],
   "source": [
    "import random #So as not to be confused with np.random\n",
    "\n",
    "prices_list = [4.50, 4.99]\n",
    "\n",
    "#Create price values\n",
    "price = random.choices(prices_list, k = len(sales_date))\n",
    "\n",
    "#Check output\n",
    "print(price)"
   ]
  },
  {
   "cell_type": "markdown",
   "id": "f0efea6b",
   "metadata": {},
   "source": [
    "### Generate unit sales"
   ]
  },
  {
   "cell_type": "markdown",
   "id": "c5c43f87",
   "metadata": {},
   "source": [
    "Next step is to generate sales data based on unit sales and place into a temporary sales variable. Sales is randomly generated based on a poisson distribution."
   ]
  },
  {
   "cell_type": "code",
   "execution_count": 84,
   "id": "dfb8ef11",
   "metadata": {},
   "outputs": [
    {
     "name": "stdout",
     "output_type": "stream",
     "text": [
      "[8374 8307 8374 8294 8503 8276 8335 8423 8329 8289 8209 8378 8210 8311\n",
      " 8207 8348 8259 8386 8399 8227 8439 8171 8308 8276 8450 8267 8406 8237\n",
      " 8125 8270 8224 8189 8343 8274 8350 8187 8205 8180 8315 8340 8345 8253\n",
      " 8350 8293 8411 8151 8208 8458 8401 8283 8338 8293]\n"
     ]
    }
   ],
   "source": [
    "#Generate unit sales - poisson distribution\n",
    "temp_sales = np.random.poisson(size=len(sales_date), lam = 8300)\n",
    "\n",
    "#Check results\n",
    "print(temp_sales)"
   ]
  },
  {
   "cell_type": "code",
   "execution_count": 85,
   "id": "0977dfad",
   "metadata": {},
   "outputs": [
    {
     "data": {
      "text/plain": [
       "array([12595.1441206 , 12494.37093502, 13460.66830836, 12474.81792886,\n",
       "       12789.17010479, 12447.74453572, 13397.97830788, 13539.43266794,\n",
       "       12527.46063775, 13324.03625603, 13195.44138325, 12601.16043019,\n",
       "       12348.47542753, 12500.38724461, 12343.96319534, 12556.03810829,\n",
       "       13275.81317874, 13479.95753928, 12632.74605552, 12374.04474328,\n",
       "       12692.90915139, 12289.81640906, 13354.57753831, 12447.74453572,\n",
       "       12709.45400276, 13288.67266601, 12643.2745973 , 13240.44958872,\n",
       "       13060.41676683, 13293.49497374, 12369.53251109, 13163.29266505,\n",
       "       13410.83779516, 13299.92471738, 13422.08984652, 12313.88164741,\n",
       "       13189.01163961, 12303.35310563, 13365.82958968, 13406.01548743,\n",
       "       13414.05266698, 12413.15075559, 13422.08984652, 12473.31385147,\n",
       "       12650.79498429, 12259.73486112, 13193.83394734, 12721.48662193,\n",
       "       12635.75421032, 12458.2730775 , 13402.80061561, 13330.46599967])"
      ]
     },
     "execution_count": 85,
     "metadata": {},
     "output_type": "execute_result"
    }
   ],
   "source": [
    "#Scale sales up according to price to follow a logarithmic function\n",
    "#Scale sales by multiplying sales by the log of price\n",
    "temp_sales = temp_sales * np.log(price)\n",
    "\n",
    "#Check output\n",
    "temp_sales"
   ]
  },
  {
   "cell_type": "markdown",
   "id": "3f7b46be",
   "metadata": {},
   "source": [
    "In our last step, we need to take our temporary sales and\n",
    "add an increase of 30% in unit sales for weeks we have the promotion\n",
    "running. We want to show the boost in sales in the weeks where there are\n",
    "promotions. We will add the floor function from numpy to remove fractions and return the largest integer."
   ]
  },
  {
   "cell_type": "code",
   "execution_count": 86,
   "id": "b02a0a5d",
   "metadata": {},
   "outputs": [
    {
     "name": "stdout",
     "output_type": "stream",
     "text": [
      "[12595. 16242. 13460. 12474. 12789. 12447. 13397. 13539. 12527. 13324.\n",
      " 13195. 12601. 12348. 12500. 12343. 16322. 13275. 13479. 12632. 12374.\n",
      " 12692. 12289. 13354. 12447. 12709. 13288. 12643. 13240. 13060. 13293.\n",
      " 16080. 13163. 13410. 13299. 17448. 12313. 13189. 15994. 13365. 13406.\n",
      " 13414. 12413. 13422. 12473. 12650. 12259. 17151. 12721. 12635. 12458.\n",
      " 13402. 13330.]\n"
     ]
    }
   ],
   "source": [
    "#Add impact of increased sales due to week where a promotion was running\n",
    "unit_sales = np.floor(temp_sales * (1 + promotion * 0.30))\n",
    "\n",
    "#Check results\n",
    "print(unit_sales)"
   ]
  },
  {
   "cell_type": "markdown",
   "id": "9538d674",
   "metadata": {},
   "source": [
    "## Putting it all together"
   ]
  },
  {
   "cell_type": "markdown",
   "id": "ae0b33d9",
   "metadata": {},
   "source": [
    "Can use the zip function to convert lists of rows into lists of columns"
   ]
  },
  {
   "cell_type": "code",
   "execution_count": 112,
   "id": "553f571e",
   "metadata": {},
   "outputs": [
    {
     "name": "stdout",
     "output_type": "stream",
     "text": [
      "   sales_date  unit_sales  promotion  social  price\n",
      "0  2019-01-06     12595.0          0       0   4.50\n",
      "1  2019-01-13     16242.0          1       0   4.50\n",
      "2  2019-01-20     13460.0          0       0   4.99\n",
      "3  2019-01-27     12474.0          0       0   4.50\n",
      "4  2019-02-03     12789.0          0       0   4.50\n",
      "5  2019-02-10     12447.0          0       0   4.50\n",
      "6  2019-02-17     13397.0          0       0   4.99\n",
      "7  2019-02-24     13539.0          0       0   4.99\n",
      "8  2019-03-03     12527.0          0       0   4.50\n",
      "9  2019-03-10     13324.0          0       0   4.99\n",
      "10 2019-03-17     13195.0          0       0   4.99\n",
      "11 2019-03-24     12601.0          0       0   4.50\n",
      "12 2019-03-31     12348.0          0       0   4.50\n",
      "13 2019-04-07     12500.0          0       0   4.50\n",
      "14 2019-04-14     12343.0          0       0   4.50\n",
      "15 2019-04-21     16322.0          1       0   4.50\n",
      "16 2019-04-28     13275.0          0       0   4.99\n",
      "17 2019-05-05     13479.0          0       0   4.99\n",
      "18 2019-05-12     12632.0          0       0   4.50\n",
      "19 2019-05-19     12374.0          0       0   4.50\n",
      "20 2019-05-26     12692.0          0       0   4.50\n",
      "21 2019-06-02     12289.0          0       0   4.50\n",
      "22 2019-06-09     13354.0          0       0   4.99\n",
      "23 2019-06-16     12447.0          0       0   4.50\n",
      "24 2019-06-23     12709.0          0       0   4.50\n",
      "25 2019-06-30     13288.0          0       0   4.99\n",
      "26 2019-07-07     12643.0          0       0   4.50\n",
      "27 2019-07-14     13240.0          0       0   4.99\n",
      "28 2019-07-21     13060.0          0       0   4.99\n",
      "29 2019-07-28     13293.0          0       0   4.99\n",
      "30 2019-08-04     16080.0          1       0   4.50\n",
      "31 2019-08-11     13163.0          0       0   4.99\n",
      "32 2019-08-18     13410.0          0       0   4.99\n",
      "33 2019-08-25     13299.0          0       0   4.99\n",
      "34 2019-09-01     17448.0          1       0   4.99\n",
      "35 2019-09-08     12313.0          0       0   4.50\n",
      "36 2019-09-15     13189.0          0       0   4.99\n",
      "37 2019-09-22     15994.0          1       0   4.50\n",
      "38 2019-09-29     13365.0          0       0   4.99\n",
      "39 2019-10-06     13406.0          0       0   4.99\n",
      "40 2019-10-13     13414.0          0       0   4.99\n",
      "41 2019-10-20     12413.0          0       0   4.50\n",
      "42 2019-10-27     13422.0          0       0   4.99\n",
      "43 2019-11-03     12473.0          0       0   4.50\n",
      "44 2019-11-10     12650.0          0       0   4.50\n",
      "45 2019-11-17     12259.0          0       0   4.50\n",
      "46 2019-11-24     17151.0          1       0   4.99\n",
      "47 2019-12-01     12721.0          0       0   4.50\n",
      "48 2019-12-08     12635.0          0       0   4.50\n",
      "49 2019-12-15     12458.0          0       0   4.50\n",
      "50 2019-12-22     13402.0          0       0   4.99\n",
      "51 2019-12-29     13330.0          0       0   4.99\n"
     ]
    }
   ],
   "source": [
    "# Creating DataFrame\n",
    "# Can use the zip function to convert lists of rows into lists of columns\n",
    "df = pd.DataFrame(list(zip(sales_date, unit_sales, promotion, social, price)), columns = ['sales_date', 'unit_sales', 'promotion', 'social', 'price'])\n",
    "\n",
    "# displaying resulting DataFrame\n",
    "print(df)"
   ]
  },
  {
   "cell_type": "markdown",
   "id": "df9bb520",
   "metadata": {},
   "source": [
    "Replacing values in pandas DataFrame based on single or multiple conditions\n",
    "\n",
    "\n",
    "**On a specific date:**\n",
    "If you want to select and replace 0 values with the same value greater than a specific date, use the following code:\n",
    "\n",
    "df.loc[df.sales_date == '2019-01-06', 'social'] = 200\n",
    "\n",
    "\n",
    "**Between 1 date range:**\n",
    "If you want to select and replace 0 values with the same value between one date range (in between 2 specific dates,) use the following code:\n",
    "\n",
    "\n",
    "df.loc[(df['sales_date'] > '2019-07-02') & (df['sales_date'] <= '2019-09-10'), 'social'] = 200\n",
    "\n",
    "\n",
    "**Between 2 date ranges:**\n",
    "If you want to select and replace 0 values with the same value between two date ranges, use the following code:\n",
    "\n",
    "df.loc[(df['sales_date'] >= '2019-07-02') & (df['sales_date'] <= '2019-09-10') | (df['sales_date'] >= '2019-12-03') & (df['sales_date'] <= '2019-12-24'), 'social'] = 200\n"
   ]
  },
  {
   "cell_type": "code",
   "execution_count": 114,
   "id": "b283c7f5",
   "metadata": {},
   "outputs": [
    {
     "name": "stdout",
     "output_type": "stream",
     "text": [
      "   sales_date  unit_sales  promotion  social  price\n",
      "0  2019-01-06     12595.0          0       0   4.50\n",
      "1  2019-01-13     16242.0          1       0   4.50\n",
      "2  2019-01-20     13460.0          0       0   4.99\n",
      "3  2019-01-27     12474.0          0       0   4.50\n",
      "4  2019-02-03     12789.0          0       0   4.50\n",
      "5  2019-02-10     12447.0          0       0   4.50\n",
      "6  2019-02-17     13397.0          0       0   4.99\n",
      "7  2019-02-24     13539.0          0       0   4.99\n",
      "8  2019-03-03     12527.0          0       0   4.50\n",
      "9  2019-03-10     13324.0          0       0   4.99\n",
      "10 2019-03-17     13195.0          0       0   4.99\n",
      "11 2019-03-24     12601.0          0       0   4.50\n",
      "12 2019-03-31     12348.0          0       0   4.50\n",
      "13 2019-04-07     12500.0          0       0   4.50\n",
      "14 2019-04-14     12343.0          0       0   4.50\n",
      "15 2019-04-21     16322.0          1       0   4.50\n",
      "16 2019-04-28     13275.0          0       0   4.99\n",
      "17 2019-05-05     13479.0          0       0   4.99\n",
      "18 2019-05-12     12632.0          0       0   4.50\n",
      "19 2019-05-19     12374.0          0       0   4.50\n",
      "20 2019-05-26     12692.0          0       0   4.50\n",
      "21 2019-06-02     12289.0          0       0   4.50\n",
      "22 2019-06-09     13354.0          0       0   4.99\n",
      "23 2019-06-16     12447.0          0       0   4.50\n",
      "24 2019-06-23     12709.0          0       0   4.50\n",
      "25 2019-06-30     13288.0          0       0   4.99\n",
      "26 2019-07-07     12643.0          0     350   4.50\n",
      "27 2019-07-14     13240.0          0     350   4.99\n",
      "28 2019-07-21     13060.0          0     350   4.99\n",
      "29 2019-07-28     13293.0          0     350   4.99\n",
      "30 2019-08-04     16080.0          1     350   4.50\n",
      "31 2019-08-11     13163.0          0     350   4.99\n",
      "32 2019-08-18     13410.0          0     350   4.99\n",
      "33 2019-08-25     13299.0          0     350   4.99\n",
      "34 2019-09-01     17448.0          1     350   4.99\n",
      "35 2019-09-08     12313.0          0     350   4.50\n",
      "36 2019-09-15     13189.0          0       0   4.99\n",
      "37 2019-09-22     15994.0          1       0   4.50\n",
      "38 2019-09-29     13365.0          0       0   4.99\n",
      "39 2019-10-06     13406.0          0       0   4.99\n",
      "40 2019-10-13     13414.0          0       0   4.99\n",
      "41 2019-10-20     12413.0          0       0   4.50\n",
      "42 2019-10-27     13422.0          0       0   4.99\n",
      "43 2019-11-03     12473.0          0       0   4.50\n",
      "44 2019-11-10     12650.0          0       0   4.50\n",
      "45 2019-11-17     12259.0          0       0   4.50\n",
      "46 2019-11-24     17151.0          1       0   4.99\n",
      "47 2019-12-01     12721.0          0       0   4.50\n",
      "48 2019-12-08     12635.0          0     200   4.50\n",
      "49 2019-12-15     12458.0          0     200   4.50\n",
      "50 2019-12-22     13402.0          0     200   4.99\n",
      "51 2019-12-29     13330.0          0       0   4.99\n"
     ]
    }
   ],
   "source": [
    "#Select and replace values between dates (We have 2 date ranges were we spent different amounts)\n",
    "df.loc[(df['sales_date'] > '2019-07-02') & (df['sales_date'] <= '2019-09-10'), 'social'] = 350\n",
    "df.loc[(df['sales_date'] > '2019-12-03') & (df['sales_date'] <= '2019-12-24'), 'social'] = 200\n",
    "print(df)"
   ]
  },
  {
   "cell_type": "markdown",
   "id": "38a9203d",
   "metadata": {},
   "source": [
    "## Check Results"
   ]
  },
  {
   "cell_type": "code",
   "execution_count": 115,
   "id": "3eab4b86",
   "metadata": {},
   "outputs": [
    {
     "name": "stdout",
     "output_type": "stream",
     "text": [
      "         unit_sales  promotion      social      price\n",
      "count     52.000000  52.000000   52.000000  52.000000\n",
      "mean   13324.480769   0.115385   78.846154   4.726154\n",
      "std     1255.850489   0.322603  141.541290   0.246657\n",
      "min    12259.000000   0.000000    0.000000   4.500000\n",
      "25%    12520.250000   0.000000    0.000000   4.500000\n",
      "50%    13176.000000   0.000000    0.000000   4.500000\n",
      "75%    13403.000000   0.000000   50.000000   4.990000\n",
      "max    17448.000000   1.000000  350.000000   4.990000\n"
     ]
    }
   ],
   "source": [
    "#Descriptive statistics\n",
    "print(df.describe())"
   ]
  },
  {
   "cell_type": "code",
   "execution_count": 143,
   "id": "315b8970",
   "metadata": {},
   "outputs": [
    {
     "data": {
      "text/plain": [
       "['January',\n",
       " 'February',\n",
       " 'March',\n",
       " 'April',\n",
       " 'May',\n",
       " 'June',\n",
       " 'July',\n",
       " 'August',\n",
       " 'September',\n",
       " 'October',\n",
       " 'November',\n",
       " 'December']"
      ]
     },
     "execution_count": 143,
     "metadata": {},
     "output_type": "execute_result"
    }
   ],
   "source": [
    "calendar.month_name[1:13]"
   ]
  },
  {
   "cell_type": "code",
   "execution_count": 160,
   "id": "5ead8d8e",
   "metadata": {},
   "outputs": [
    {
     "data": {
      "image/png": "[encoded data removed]",
      "text/plain": [
       "<Figure size 432x288 with 4 Axes>"
      ]
     },
     "metadata": {
      "needs_background": "light"
     },
     "output_type": "display_data"
    }
   ],
   "source": [
    "# Set the color palette\n",
    "sns.set_palette(sns.color_palette(\"vlag\"))\n",
    "\n",
    "#Initialize subplots with number of rows and number of columns\n",
    "figure, ax = plt.subplots(nrows = 2, ncols = 2)\n",
    "\n",
    "#Get readable axis labels for plot 1 which has a date on the x-axis(time series plot)\n",
    "plt.sca(ax[0, 0])\n",
    "plt.xticks(rotation=45, fontsize = 8)\n",
    "#plt.xticks([]) #This disables the x-ticks (uncomment and run if you prefer the x-axis to be blank)\n",
    "\n",
    "#See the distribution of the data\n",
    "sns.lineplot(data=df, x=\"sales_date\",y=\"unit_sales\", ax=ax[0,0])\n",
    "sns.boxplot(data=df, x=\"promotion\", y=\"unit_sales\", ax=ax[0,1])\n",
    "sns.scatterplot(data=df, x=\"social\", y=\"unit_sales\", ax=ax[1,1])\n",
    "sns.boxplot(data=df, x=\"price\", y=\"unit_sales\", ax=ax[1,0])\n",
    "\n",
    "#Gives a tidy layout\n",
    "plt.tight_layout()\n",
    "\n",
    "#Show plot\n",
    "plt.show()"
   ]
  },
  {
   "cell_type": "code",
   "execution_count": 161,
   "id": "111cd82f",
   "metadata": {},
   "outputs": [
    {
     "name": "stdout",
     "output_type": "stream",
     "text": [
      "            unit_sales  promotion    social     price\n",
      "unit_sales    1.000000   0.933596  0.149002  0.251714\n",
      "promotion     0.933596   1.000000  0.097445 -0.092880\n",
      "social        0.149002   0.097445  1.000000  0.208517\n",
      "price         0.251714  -0.092880  0.208517  1.000000\n"
     ]
    }
   ],
   "source": [
    "#Correlation Plot Matrix\n",
    "#Pearson is the default correlation method that is used for normally distributed data\n",
    "corr = df.corr(method = \"pearson\")\n",
    "print(corr)"
   ]
  },
  {
   "cell_type": "code",
   "execution_count": 162,
   "id": "d8cb1480",
   "metadata": {},
   "outputs": [
    {
     "data": {
      "text/html": [
       "<style type=\"text/css\">\n",
       "#T_ac2b0_row0_col0, #T_ac2b0_row1_col1, #T_ac2b0_row2_col2, #T_ac2b0_row3_col3 {\n",
       "  background-color: #053061;\n",
       "  color: #f1f1f1;\n",
       "}\n",
       "#T_ac2b0_row0_col1 {\n",
       "  background-color: #15508d;\n",
       "  color: #f1f1f1;\n",
       "}\n",
       "#T_ac2b0_row0_col2 {\n",
       "  background-color: #900d26;\n",
       "  color: #f1f1f1;\n",
       "}\n",
       "#T_ac2b0_row0_col3 {\n",
       "  background-color: #f5ac8b;\n",
       "  color: #000000;\n",
       "}\n",
       "#T_ac2b0_row1_col0 {\n",
       "  background-color: #1a5899;\n",
       "  color: #f1f1f1;\n",
       "}\n",
       "#T_ac2b0_row1_col2, #T_ac2b0_row1_col3, #T_ac2b0_row2_col0, #T_ac2b0_row3_col1 {\n",
       "  background-color: #67001f;\n",
       "  color: #f1f1f1;\n",
       "}\n",
       "#T_ac2b0_row2_col1 {\n",
       "  background-color: #cc4c44;\n",
       "  color: #f1f1f1;\n",
       "}\n",
       "#T_ac2b0_row2_col3 {\n",
       "  background-color: #ec9374;\n",
       "  color: #f1f1f1;\n",
       "}\n",
       "#T_ac2b0_row3_col0 {\n",
       "  background-color: #b82531;\n",
       "  color: #f1f1f1;\n",
       "}\n",
       "#T_ac2b0_row3_col2 {\n",
       "  background-color: #ba2832;\n",
       "  color: #f1f1f1;\n",
       "}\n",
       "</style>\n",
       "<table id=\"T_ac2b0\">\n",
       "  <thead>\n",
       "    <tr>\n",
       "      <th class=\"blank level0\" >&nbsp;</th>\n",
       "      <th id=\"T_ac2b0_level0_col0\" class=\"col_heading level0 col0\" >unit_sales</th>\n",
       "      <th id=\"T_ac2b0_level0_col1\" class=\"col_heading level0 col1\" >promotion</th>\n",
       "      <th id=\"T_ac2b0_level0_col2\" class=\"col_heading level0 col2\" >social</th>\n",
       "      <th id=\"T_ac2b0_level0_col3\" class=\"col_heading level0 col3\" >price</th>\n",
       "    </tr>\n",
       "  </thead>\n",
       "  <tbody>\n",
       "    <tr>\n",
       "      <th id=\"T_ac2b0_level0_row0\" class=\"row_heading level0 row0\" >unit_sales</th>\n",
       "      <td id=\"T_ac2b0_row0_col0\" class=\"data row0 col0\" >1.000000</td>\n",
       "      <td id=\"T_ac2b0_row0_col1\" class=\"data row0 col1\" >0.933596</td>\n",
       "      <td id=\"T_ac2b0_row0_col2\" class=\"data row0 col2\" >0.149002</td>\n",
       "      <td id=\"T_ac2b0_row0_col3\" class=\"data row0 col3\" >0.251714</td>\n",
       "    </tr>\n",
       "    <tr>\n",
       "      <th id=\"T_ac2b0_level0_row1\" class=\"row_heading level0 row1\" >promotion</th>\n",
       "      <td id=\"T_ac2b0_row1_col0\" class=\"data row1 col0\" >0.933596</td>\n",
       "      <td id=\"T_ac2b0_row1_col1\" class=\"data row1 col1\" >1.000000</td>\n",
       "      <td id=\"T_ac2b0_row1_col2\" class=\"data row1 col2\" >0.097445</td>\n",
       "      <td id=\"T_ac2b0_row1_col3\" class=\"data row1 col3\" >-0.092880</td>\n",
       "    </tr>\n",
       "    <tr>\n",
       "      <th id=\"T_ac2b0_level0_row2\" class=\"row_heading level0 row2\" >social</th>\n",
       "      <td id=\"T_ac2b0_row2_col0\" class=\"data row2 col0\" >0.149002</td>\n",
       "      <td id=\"T_ac2b0_row2_col1\" class=\"data row2 col1\" >0.097445</td>\n",
       "      <td id=\"T_ac2b0_row2_col2\" class=\"data row2 col2\" >1.000000</td>\n",
       "      <td id=\"T_ac2b0_row2_col3\" class=\"data row2 col3\" >0.208517</td>\n",
       "    </tr>\n",
       "    <tr>\n",
       "      <th id=\"T_ac2b0_level0_row3\" class=\"row_heading level0 row3\" >price</th>\n",
       "      <td id=\"T_ac2b0_row3_col0\" class=\"data row3 col0\" >0.251714</td>\n",
       "      <td id=\"T_ac2b0_row3_col1\" class=\"data row3 col1\" >-0.092880</td>\n",
       "      <td id=\"T_ac2b0_row3_col2\" class=\"data row3 col2\" >0.208517</td>\n",
       "      <td id=\"T_ac2b0_row3_col3\" class=\"data row3 col3\" >1.000000</td>\n",
       "    </tr>\n",
       "  </tbody>\n",
       "</table>\n"
      ],
      "text/plain": [
       "<pandas.io.formats.style.Styler at 0x7fd5a8f23400>"
      ]
     },
     "execution_count": 162,
     "metadata": {},
     "output_type": "execute_result"
    }
   ],
   "source": [
    "corr.style.background_gradient(cmap='RdBu')"
   ]
  },
  {
   "cell_type": "markdown",
   "id": "b1e30ccb",
   "metadata": {},
   "source": [
    "## Export simulated dataset"
   ]
  },
  {
   "cell_type": "code",
   "execution_count": 163,
   "id": "53c41e46",
   "metadata": {},
   "outputs": [],
   "source": [
    "#Save simulated dataset as a csv file or excel file\n",
    "df.to_csv(\"datasets/weekly_sales_data.csv\")\n",
    "\n",
    "#Using to_excel from pandas\n",
    "#https://pandas.pydata.org/docs/reference/api/pandas.DataFrame.to_excel.html#\n",
    "df.to_excel(\"datasets/weekly_sales_data.xlsx\", sheet_name='Sheet1')"
   ]
  },
  {
   "cell_type": "code",
   "execution_count": 164,
   "id": "91c4a1c8",
   "metadata": {},
   "outputs": [
    {
     "ename": "NameError",
     "evalue": "name 'ls' is not defined",
     "output_type": "error",
     "traceback": [
      "\u001b[0;31m---------------------------------------------------------------------------\u001b[0m",
      "\u001b[0;31mNameError\u001b[0m                                 Traceback (most recent call last)",
      "Input \u001b[0;32mIn [164]\u001b[0m, in \u001b[0;36m<cell line: 2>\u001b[0;34m()\u001b[0m\n\u001b[1;32m      1\u001b[0m \u001b[38;5;66;03m#Check files in directory\u001b[39;00m\n\u001b[0;32m----> 2\u001b[0m \u001b[43mls\u001b[49m\n",
      "\u001b[0;31mNameError\u001b[0m: name 'ls' is not defined"
     ]
    }
   ],
   "source": [
    "#Check files in directory\n",
    "ls"
   ]
  },
  {
   "cell_type": "markdown",
   "id": "242d0ca8",
   "metadata": {},
   "source": [
    "***"
   ]
  },
  {
   "cell_type": "markdown",
   "id": "270d08cc",
   "metadata": {},
   "source": [
    "#### References"
   ]
  },
  {
   "cell_type": "markdown",
   "id": "16a966d5",
   "metadata": {},
   "source": [
    "[1]  Chapman, C. and McDonnell Feit, E., (2015). R for marketing research\n",
    "    and analytics. Cham: Springer, pp.47-59, 162--191."
   ]
  }
 ],
 "metadata": {
  "kernelspec": {
   "display_name": "Python 3 (ipykernel)",
   "language": "python",
   "name": "python3"
  },
  "language_info": {
   "codemirror_mode": {
    "name": "ipython",
    "version": 3
   },
   "file_extension": ".py",
   "mimetype": "text/x-python",
   "name": "python",
   "nbconvert_exporter": "python",
   "pygments_lexer": "ipython3",
   "version": "3.9.7"
  }
 },
 "nbformat": 4,
 "nbformat_minor": 5
}
