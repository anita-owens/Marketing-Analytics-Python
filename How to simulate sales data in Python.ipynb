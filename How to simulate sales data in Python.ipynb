{
 "cells": [
  {
   "cell_type": "markdown",
   "id": "e420ade6",
   "metadata": {},
   "source": [
    "# How to simulate sales data in Python"
   ]
  },
  {
   "cell_type": "markdown",
   "id": "0d5d7ea2",
   "metadata": {},
   "source": [
    "Why simulate data?\n",
    "\n",
    "Have you ever spent an inordinate amount of time looking for the right\n",
    "data set to try out an analytical technique, but you don't quite find\n",
    "what you are looking for.\n",
    "\n",
    "Well, why not just create your own dataset for maximum flexibility which\n",
    "gives you a few advantages:\n",
    "\n",
    "1.  To test your analysis to make sure it's working.\n",
    "2.  To make changes to your dataset to see what happens and how your\n",
    "    conclusions might change based on different parameters . (e.g. How\n",
    "    sales are impacted by different levels of the price of our product)."
   ]
  },
  {
   "cell_type": "markdown",
   "id": "32b1bf78",
   "metadata": {},
   "source": [
    "## Import Packages"
   ]
  },
  {
   "cell_type": "code",
   "execution_count": 1,
   "id": "1541858a",
   "metadata": {},
   "outputs": [],
   "source": [
    "#Import pandas and numpy\n",
    "import pandas as pd\n",
    "import numpy as np\n",
    "from numpy import random\n",
    "\n",
    "# From matplotlib, import pyplot under the alias plt\n",
    "from matplotlib import pyplot as plt\n",
    "\n",
    "#Import Seaborn\n",
    "import seaborn as sns\n",
    "\n",
    "#Import datetime for working with dates\n",
    "from datetime import datetime"
   ]
  },
  {
   "cell_type": "markdown",
   "id": "9bff531a",
   "metadata": {},
   "source": [
    "## Data Simulation"
   ]
  },
  {
   "cell_type": "markdown",
   "id": "6ea0b643",
   "metadata": {},
   "source": [
    "First, we will create a skeleton data frame to hold our variables and\n",
    "initialize with 0 values for all columns except the date column.\n",
    "\n",
    "1.  Sales date (week level granularity)\n",
    "2.  Unit sales\n",
    "3.  Unit price\n",
    "4.  Paid social ads\n",
    "5.  Promotion - whether there was a promotion this week."
   ]
  },
  {
   "cell_type": "code",
   "execution_count": 2,
   "id": "1ce654b1",
   "metadata": {},
   "outputs": [],
   "source": [
    "#Set seed so that when reproducing the dataset, we get the same results.\n",
    "np.random.seed(90210)"
   ]
  },
  {
   "cell_type": "markdown",
   "id": "a5b31e9d",
   "metadata": {},
   "source": [
    "Visit https://pandas.pydata.org/docs/user_guide/timeseries.html for a list of all parameters we can use in the freq argument of the date_range function, but since we want weekly dates, we will use the freq = 'W-TUE' argument since Jan 1st was a Tuesday."
   ]
  },
  {
   "cell_type": "code",
   "execution_count": 3,
   "id": "3bbbd51b",
   "metadata": {},
   "outputs": [
    {
     "name": "stdout",
     "output_type": "stream",
     "text": [
      "DatetimeIndex(['2019-01-01', '2019-01-08', '2019-01-15', '2019-01-22',\n",
      "               '2019-01-29', '2019-02-05', '2019-02-12', '2019-02-19',\n",
      "               '2019-02-26', '2019-03-05', '2019-03-12', '2019-03-19',\n",
      "               '2019-03-26', '2019-04-02', '2019-04-09', '2019-04-16',\n",
      "               '2019-04-23', '2019-04-30', '2019-05-07', '2019-05-14',\n",
      "               '2019-05-21', '2019-05-28', '2019-06-04', '2019-06-11',\n",
      "               '2019-06-18', '2019-06-25', '2019-07-02', '2019-07-09',\n",
      "               '2019-07-16', '2019-07-23', '2019-07-30', '2019-08-06',\n",
      "               '2019-08-13', '2019-08-20', '2019-08-27', '2019-09-03',\n",
      "               '2019-09-10', '2019-09-17', '2019-09-24', '2019-10-01',\n",
      "               '2019-10-08', '2019-10-15', '2019-10-22', '2019-10-29',\n",
      "               '2019-11-05', '2019-11-12', '2019-11-19', '2019-11-26',\n",
      "               '2019-12-03', '2019-12-10', '2019-12-17', '2019-12-24'],\n",
      "              dtype='datetime64[ns]', freq='W-TUE')\n"
     ]
    }
   ],
   "source": [
    "#Create date sequence of 52 weeks using date_range function\n",
    "sales_date = pd.date_range('2019-01-01', periods=52, freq = 'W-TUE')\n",
    "\n",
    "#Check results\n",
    "print(sales_date)"
   ]
  },
  {
   "cell_type": "markdown",
   "id": "aeebe46e",
   "metadata": {},
   "source": [
    "We want to add weeks with marketing promotions. We can simulate promotions using the binomial distribution. The notation of the binomial distribution is B(n,p), where n is the number of experiments or trials, and p is the probability of success."
   ]
  },
  {
   "cell_type": "code",
   "execution_count": 4,
   "id": "d53ac4bc",
   "metadata": {},
   "outputs": [
    {
     "name": "stdout",
     "output_type": "stream",
     "text": [
      "[0 1 0 0 0 0 0 0 0 0 0 0 0 0 0 1 0 0 0 0 0 0 0 0 0 0 0 0 0 0 1 0 0 0 1 0 0\n",
      " 1 0 0 0 0 0 0 0 0 1 0 0 0 0 0]\n"
     ]
    }
   ],
   "source": [
    "#Create weeks where there were promotions running. 10% likelihood of a promotion\n",
    "promotion = np.random.binomial(n=1, p=0.10, size=len(sales_date))\n",
    "\n",
    "#Check results\n",
    "print(promotion)"
   ]
  },
  {
   "cell_type": "markdown",
   "id": "310270a1",
   "metadata": {},
   "source": [
    "Let's create data for the paid social ads. We want to add Paid Social values for the range of dates between July and September and again in December."
   ]
  },
  {
   "cell_type": "code",
   "execution_count": 5,
   "id": "d2fa8fcf",
   "metadata": {},
   "outputs": [
    {
     "name": "stdout",
     "output_type": "stream",
     "text": [
      "[0, 0, 0, 0, 0, 0, 0, 0, 0, 0, 0, 0, 0, 0, 0, 0, 0, 0, 0, 0, 0, 0, 0, 0, 0, 0, 0, 0, 0, 0, 0, 0, 0, 0, 0, 0, 0, 0, 0, 0, 0, 0, 0, 0, 0, 0, 0, 0, 0, 0, 0, 0]\n"
     ]
    }
   ],
   "source": [
    "#Create a repeating list of 0's\n",
    "social = [0] * len(sales_date)\n",
    "\n",
    "print(social)"
   ]
  },
  {
   "cell_type": "markdown",
   "id": "1abf988c",
   "metadata": {},
   "source": [
    "Generate the product's price and place in a vector and then we'll use\n",
    "the random.choices method to randomly create prices. We will only create two (2) price points for our product. We want to use random sampling with replacement. If you wanted to use random sampling without replacement, you could use the random.sample function from the random module."
   ]
  },
  {
   "cell_type": "code",
   "execution_count": 6,
   "id": "31b62774",
   "metadata": {},
   "outputs": [
    {
     "name": "stdout",
     "output_type": "stream",
     "text": [
      "[4.99, 4.99, 4.99, 4.99, 4.99, 4.5, 4.99, 4.99, 4.99, 4.99, 4.5, 4.99, 4.99, 4.99, 4.5, 4.5, 4.5, 4.99, 4.99, 4.99, 4.5, 4.5, 4.5, 4.99, 4.5, 4.99, 4.99, 4.99, 4.5, 4.99, 4.5, 4.5, 4.5, 4.5, 4.5, 4.99, 4.5, 4.99, 4.99, 4.5, 4.99, 4.99, 4.5, 4.99, 4.5, 4.99, 4.5, 4.5, 4.5, 4.99, 4.5, 4.5]\n"
     ]
    }
   ],
   "source": [
    "import random #So as not to be confused with np.random\n",
    "\n",
    "prices_list = [4.50, 4.99]\n",
    "\n",
    "#Create price values\n",
    "price = random.choices(prices_list, k = len(sales_date))\n",
    "\n",
    "#Check output\n",
    "print(price)"
   ]
  },
  {
   "cell_type": "markdown",
   "id": "f0efea6b",
   "metadata": {},
   "source": [
    "### Generate unit sales"
   ]
  },
  {
   "cell_type": "markdown",
   "id": "c5c43f87",
   "metadata": {},
   "source": [
    "Next step is to generate sales data based on unit sales and place into a temporary sales variable. Sales is randomly generated based on a poisson distribution."
   ]
  },
  {
   "cell_type": "code",
   "execution_count": 7,
   "id": "dfb8ef11",
   "metadata": {},
   "outputs": [
    {
     "name": "stdout",
     "output_type": "stream",
     "text": [
      "[8374 8307 8374 8294 8503 8276 8335 8423 8329 8289 8209 8378 8210 8311\n",
      " 8207 8348 8259 8386 8399 8227 8439 8171 8308 8276 8450 8267 8406 8237\n",
      " 8125 8270 8224 8189 8343 8274 8350 8187 8205 8180 8315 8340 8345 8253\n",
      " 8350 8293 8411 8151 8208 8458 8401 8283 8338 8293]\n"
     ]
    }
   ],
   "source": [
    "#Generate unit sales - poisson distribution\n",
    "temp_sales = np.random.poisson(size=len(sales_date), lam = 8300)\n",
    "\n",
    "#Check results\n",
    "print(temp_sales)"
   ]
  },
  {
   "cell_type": "code",
   "execution_count": 8,
   "id": "0977dfad",
   "metadata": {},
   "outputs": [
    {
     "name": "stdout",
     "output_type": "stream",
     "text": [
      "[13460.66830836 13352.9701024  13460.66830836 13332.07343558\n",
      " 13668.02754072 12447.74453572 13397.97830788 13539.43266794\n",
      " 13388.33369242 13324.03625603 12346.97135014 13467.098052\n",
      " 13197.04881916 13359.39984604 12343.96319534 12556.03810829\n",
      " 12422.17521998 13479.95753928 13500.8542061  13224.37522962\n",
      " 12692.90915139 12289.81640906 12495.87501242 13303.1395892\n",
      " 12709.45400276 13288.67266601 13512.10625747 13240.44958872\n",
      " 12220.62884881 13293.49497374 12369.53251109 12316.8898022\n",
      " 12548.5177213  12444.73638093 12559.04626308 13160.07779323\n",
      " 12340.95504055 13148.82574186 13365.82958968 12544.00548911\n",
      " 13414.05266698 13266.16856328 12559.04626308 13330.46599967\n",
      " 12650.79498429 13102.21010048 12345.46727274 12721.48662193\n",
      " 12635.75421032 13314.39164057 12540.99733432 12473.31385147]\n"
     ]
    }
   ],
   "source": [
    "#Scale sales up according to price to follow a logarithmic function\n",
    "#Scale sales by multiplying sales by the log of price\n",
    "temp_sales = temp_sales * np.log(price)\n",
    "\n",
    "#Check output\n",
    "print(temp_sales)"
   ]
  },
  {
   "cell_type": "markdown",
   "id": "3f7b46be",
   "metadata": {},
   "source": [
    "In our last step, we need to take our temporary sales and\n",
    "add an increase of 30% in unit sales for weeks we have the promotion\n",
    "running. We want to show the boost in sales in the weeks where there are\n",
    "promotions. We will add the floor function from numpy to remove fractions and return the largest integer."
   ]
  },
  {
   "cell_type": "code",
   "execution_count": 9,
   "id": "b02a0a5d",
   "metadata": {},
   "outputs": [
    {
     "name": "stdout",
     "output_type": "stream",
     "text": [
      "[13460. 17358. 13460. 13332. 13668. 12447. 13397. 13539. 13388. 13324.\n",
      " 12346. 13467. 13197. 13359. 12343. 16322. 12422. 13479. 13500. 13224.\n",
      " 12692. 12289. 12495. 13303. 12709. 13288. 13512. 13240. 12220. 13293.\n",
      " 16080. 12316. 12548. 12444. 16326. 13160. 12340. 17093. 13365. 12544.\n",
      " 13414. 13266. 12559. 13330. 12650. 13102. 16049. 12721. 12635. 13314.\n",
      " 12540. 12473.]\n"
     ]
    }
   ],
   "source": [
    "#Add impact of increased sales due to week where a promotion was running\n",
    "unit_sales = np.floor(temp_sales * (1 + promotion * 0.30))\n",
    "\n",
    "#Check results\n",
    "print(unit_sales)"
   ]
  },
  {
   "cell_type": "markdown",
   "id": "9538d674",
   "metadata": {},
   "source": [
    "## Putting it all together"
   ]
  },
  {
   "cell_type": "markdown",
   "id": "ae0b33d9",
   "metadata": {},
   "source": [
    "Can use the zip function to convert lists of rows into lists of columns"
   ]
  },
  {
   "cell_type": "code",
   "execution_count": 10,
   "id": "553f571e",
   "metadata": {},
   "outputs": [
    {
     "name": "stdout",
     "output_type": "stream",
     "text": [
      "   sales_date  unit_sales  promotion  social  price\n",
      "0  2019-01-01     13460.0          0       0   4.99\n",
      "1  2019-01-08     17358.0          1       0   4.99\n",
      "2  2019-01-15     13460.0          0       0   4.99\n",
      "3  2019-01-22     13332.0          0       0   4.99\n",
      "4  2019-01-29     13668.0          0       0   4.99\n",
      "5  2019-02-05     12447.0          0       0   4.50\n",
      "6  2019-02-12     13397.0          0       0   4.99\n",
      "7  2019-02-19     13539.0          0       0   4.99\n",
      "8  2019-02-26     13388.0          0       0   4.99\n",
      "9  2019-03-05     13324.0          0       0   4.99\n",
      "10 2019-03-12     12346.0          0       0   4.50\n",
      "11 2019-03-19     13467.0          0       0   4.99\n",
      "12 2019-03-26     13197.0          0       0   4.99\n",
      "13 2019-04-02     13359.0          0       0   4.99\n",
      "14 2019-04-09     12343.0          0       0   4.50\n",
      "15 2019-04-16     16322.0          1       0   4.50\n",
      "16 2019-04-23     12422.0          0       0   4.50\n",
      "17 2019-04-30     13479.0          0       0   4.99\n",
      "18 2019-05-07     13500.0          0       0   4.99\n",
      "19 2019-05-14     13224.0          0       0   4.99\n",
      "20 2019-05-21     12692.0          0       0   4.50\n",
      "21 2019-05-28     12289.0          0       0   4.50\n",
      "22 2019-06-04     12495.0          0       0   4.50\n",
      "23 2019-06-11     13303.0          0       0   4.99\n",
      "24 2019-06-18     12709.0          0       0   4.50\n",
      "25 2019-06-25     13288.0          0       0   4.99\n",
      "26 2019-07-02     13512.0          0       0   4.99\n",
      "27 2019-07-09     13240.0          0       0   4.99\n",
      "28 2019-07-16     12220.0          0       0   4.50\n",
      "29 2019-07-23     13293.0          0       0   4.99\n",
      "30 2019-07-30     16080.0          1       0   4.50\n",
      "31 2019-08-06     12316.0          0       0   4.50\n",
      "32 2019-08-13     12548.0          0       0   4.50\n",
      "33 2019-08-20     12444.0          0       0   4.50\n",
      "34 2019-08-27     16326.0          1       0   4.50\n",
      "35 2019-09-03     13160.0          0       0   4.99\n",
      "36 2019-09-10     12340.0          0       0   4.50\n",
      "37 2019-09-17     17093.0          1       0   4.99\n",
      "38 2019-09-24     13365.0          0       0   4.99\n",
      "39 2019-10-01     12544.0          0       0   4.50\n",
      "40 2019-10-08     13414.0          0       0   4.99\n",
      "41 2019-10-15     13266.0          0       0   4.99\n",
      "42 2019-10-22     12559.0          0       0   4.50\n",
      "43 2019-10-29     13330.0          0       0   4.99\n",
      "44 2019-11-05     12650.0          0       0   4.50\n",
      "45 2019-11-12     13102.0          0       0   4.99\n",
      "46 2019-11-19     16049.0          1       0   4.50\n",
      "47 2019-11-26     12721.0          0       0   4.50\n",
      "48 2019-12-03     12635.0          0       0   4.50\n",
      "49 2019-12-10     13314.0          0       0   4.99\n",
      "50 2019-12-17     12540.0          0       0   4.50\n",
      "51 2019-12-24     12473.0          0       0   4.50\n"
     ]
    }
   ],
   "source": [
    "# Creating DataFrame\n",
    "# Can use the zip function to convert lists of rows into lists of columns\n",
    "df = pd.DataFrame(list(zip(sales_date, unit_sales, promotion, social, price)), columns = ['sales_date', 'unit_sales', 'promotion', 'social', 'price'])\n",
    "\n",
    "# displaying resulting DataFrame\n",
    "print(df)"
   ]
  },
  {
   "cell_type": "markdown",
   "id": "bce79cea",
   "metadata": {},
   "source": [
    "Replacing values in pandas DataFrame based on single or multiple conditions\n",
    "\n",
    "\n",
    "**On a specific date:**\n",
    "If you want to select and replace 0 values on a specific date, use the following code:\n",
    "\n",
    "df.loc[df.sales_date == '2019-01-06', 'social'] = 200\n",
    "\n",
    "\n",
    "**Between 1 date range:**\n",
    "If you want to select and replace 0 values between one date range (in between 2 specific dates,) use the following code:\n",
    "\n",
    "\n",
    "df.loc[(df['sales_date'] >= '2019-07-02') & (df['sales_date'] <= '2019-09-10'), 'social'] = 200\n",
    "\n",
    "\n",
    "**Between 2 date ranges:**\n",
    "If you want to select and replace 0 values between two date ranges, use the following code:\n",
    "\n",
    "df.loc[(df['sales_date'] >= '2019-07-02') & (df['sales_date'] <= '2019-09-10') | (df['sales_date'] >= '2019-12-03') & (df['sales_date'] <= '2019-12-24'), 'social'] = 200\n"
   ]
  },
  {
   "cell_type": "code",
   "execution_count": 11,
   "id": "12e07f7d",
   "metadata": {},
   "outputs": [
    {
     "name": "stdout",
     "output_type": "stream",
     "text": [
      "   sales_date  unit_sales  promotion  social  price\n",
      "0  2019-01-01     13460.0          0       0   4.99\n",
      "1  2019-01-08     17358.0          1       0   4.99\n",
      "2  2019-01-15     13460.0          0       0   4.99\n",
      "3  2019-01-22     13332.0          0       0   4.99\n",
      "4  2019-01-29     13668.0          0       0   4.99\n",
      "5  2019-02-05     12447.0          0       0   4.50\n",
      "6  2019-02-12     13397.0          0       0   4.99\n",
      "7  2019-02-19     13539.0          0       0   4.99\n",
      "8  2019-02-26     13388.0          0       0   4.99\n",
      "9  2019-03-05     13324.0          0       0   4.99\n",
      "10 2019-03-12     12346.0          0       0   4.50\n",
      "11 2019-03-19     13467.0          0       0   4.99\n",
      "12 2019-03-26     13197.0          0       0   4.99\n",
      "13 2019-04-02     13359.0          0       0   4.99\n",
      "14 2019-04-09     12343.0          0       0   4.50\n",
      "15 2019-04-16     16322.0          1       0   4.50\n",
      "16 2019-04-23     12422.0          0       0   4.50\n",
      "17 2019-04-30     13479.0          0       0   4.99\n",
      "18 2019-05-07     13500.0          0       0   4.99\n",
      "19 2019-05-14     13224.0          0       0   4.99\n",
      "20 2019-05-21     12692.0          0       0   4.50\n",
      "21 2019-05-28     12289.0          0       0   4.50\n",
      "22 2019-06-04     12495.0          0       0   4.50\n",
      "23 2019-06-11     13303.0          0       0   4.99\n",
      "24 2019-06-18     12709.0          0       0   4.50\n",
      "25 2019-06-25     13288.0          0       0   4.99\n",
      "26 2019-07-02     13512.0          0     350   4.99\n",
      "27 2019-07-09     13240.0          0     350   4.99\n",
      "28 2019-07-16     12220.0          0     350   4.50\n",
      "29 2019-07-23     13293.0          0     350   4.99\n",
      "30 2019-07-30     16080.0          1     350   4.50\n",
      "31 2019-08-06     12316.0          0     350   4.50\n",
      "32 2019-08-13     12548.0          0     350   4.50\n",
      "33 2019-08-20     12444.0          0     350   4.50\n",
      "34 2019-08-27     16326.0          1     350   4.50\n",
      "35 2019-09-03     13160.0          0     350   4.99\n",
      "36 2019-09-10     12340.0          0     350   4.50\n",
      "37 2019-09-17     17093.0          1       0   4.99\n",
      "38 2019-09-24     13365.0          0       0   4.99\n",
      "39 2019-10-01     12544.0          0       0   4.50\n",
      "40 2019-10-08     13414.0          0       0   4.99\n",
      "41 2019-10-15     13266.0          0       0   4.99\n",
      "42 2019-10-22     12559.0          0       0   4.50\n",
      "43 2019-10-29     13330.0          0       0   4.99\n",
      "44 2019-11-05     12650.0          0       0   4.50\n",
      "45 2019-11-12     13102.0          0       0   4.99\n",
      "46 2019-11-19     16049.0          1       0   4.50\n",
      "47 2019-11-26     12721.0          0       0   4.50\n",
      "48 2019-12-03     12635.0          0     200   4.50\n",
      "49 2019-12-10     13314.0          0     200   4.99\n",
      "50 2019-12-17     12540.0          0     200   4.50\n",
      "51 2019-12-24     12473.0          0     200   4.50\n"
     ]
    }
   ],
   "source": [
    "#Select and replace values between dates (We have 2 date ranges were we spent different amounts)\n",
    "df.loc[(df['sales_date'] >= '2019-07-02') & (df['sales_date'] <= '2019-09-10'), 'social'] = 350\n",
    "df.loc[(df['sales_date'] >= '2019-12-03') & (df['sales_date'] <= '2019-12-24'), 'social'] = 200\n",
    "print(df)"
   ]
  },
  {
   "cell_type": "markdown",
   "id": "38a9203d",
   "metadata": {},
   "source": [
    "## Check Results"
   ]
  },
  {
   "cell_type": "code",
   "execution_count": 12,
   "id": "3eab4b86",
   "metadata": {},
   "outputs": [
    {
     "name": "stdout",
     "output_type": "stream",
     "text": [
      "         unit_sales  promotion      social      price\n",
      "count     52.000000  52.000000   52.000000  52.000000\n",
      "mean   13391.192308   0.115385   89.423077   4.763846\n",
      "std     1237.928489   0.322603  146.306333   0.246657\n",
      "min    12220.000000   0.000000    0.000000   4.500000\n",
      "25%    12547.000000   0.000000    0.000000   4.500000\n",
      "50%    13277.000000   0.000000    0.000000   4.990000\n",
      "75%    13460.000000   0.000000  200.000000   4.990000\n",
      "max    17358.000000   1.000000  350.000000   4.990000\n"
     ]
    }
   ],
   "source": [
    "#Descriptive statistics\n",
    "print(df.describe())"
   ]
  },
  {
   "cell_type": "code",
   "execution_count": 13,
   "id": "5ead8d8e",
   "metadata": {},
   "outputs": [
    {
     "data": {
      "image/png": "[encoded data removed]",
      "text/plain": [
       "<Figure size 432x288 with 4 Axes>"
      ]
     },
     "metadata": {
      "needs_background": "light"
     },
     "output_type": "display_data"
    }
   ],
   "source": [
    "# Set the color palette\n",
    "sns.set_palette(sns.color_palette(\"vlag\"))\n",
    "\n",
    "#Initialize subplots with number of rows and number of columns\n",
    "figure, ax = plt.subplots(nrows = 2, ncols = 2)\n",
    "\n",
    "#Get readable axis labels for plot 1 which has a date on the x-axis(time series plot)\n",
    "plt.sca(ax[0, 0])\n",
    "plt.xticks(rotation=45, fontsize = 8)\n",
    "#plt.xticks([]) #This disables the x-ticks (uncomment and run if you prefer the x-axis to be blank)\n",
    "\n",
    "#See the distribution of the data\n",
    "sns.lineplot(data=df, x=\"sales_date\",y=\"unit_sales\", ax=ax[0,0])\n",
    "sns.boxplot(data=df, x=\"promotion\", y=\"unit_sales\", ax=ax[0,1])\n",
    "sns.scatterplot(data=df, x=\"social\", y=\"unit_sales\", ax=ax[1,1])\n",
    "sns.boxplot(data=df, x=\"price\", y=\"unit_sales\", ax=ax[1,0])\n",
    "\n",
    "#Gives a tidy layout\n",
    "plt.tight_layout()\n",
    "\n",
    "#Show plot\n",
    "plt.show()"
   ]
  },
  {
   "cell_type": "code",
   "execution_count": 14,
   "id": "111cd82f",
   "metadata": {},
   "outputs": [
    {
     "name": "stdout",
     "output_type": "stream",
     "text": [
      "            unit_sales  promotion    social     price\n",
      "unit_sales    1.000000   0.927018 -0.049691  0.216440\n",
      "promotion     0.927018   1.000000  0.067907 -0.148608\n",
      "social       -0.049691   0.067907  1.000000 -0.240638\n",
      "price         0.216440  -0.148608 -0.240638  1.000000\n"
     ]
    }
   ],
   "source": [
    "#Correlation Plot Matrix\n",
    "#Pearson is the default correlation method that is used for normally distributed data\n",
    "corr = df.corr(method = \"pearson\")\n",
    "print(corr)"
   ]
  },
  {
   "cell_type": "code",
   "execution_count": 15,
   "id": "d8cb1480",
   "metadata": {},
   "outputs": [
    {
     "data": {
      "text/html": [
       "<style type=\"text/css\">\n",
       "#T_0e57e_row0_col0, #T_0e57e_row1_col1, #T_0e57e_row2_col2, #T_0e57e_row3_col3 {\n",
       "  background-color: #053061;\n",
       "  color: #f1f1f1;\n",
       "}\n",
       "#T_0e57e_row0_col1 {\n",
       "  background-color: #175290;\n",
       "  color: #f1f1f1;\n",
       "}\n",
       "#T_0e57e_row0_col2 {\n",
       "  background-color: #c53e3d;\n",
       "  color: #f1f1f1;\n",
       "}\n",
       "#T_0e57e_row0_col3 {\n",
       "  background-color: #facab1;\n",
       "  color: #000000;\n",
       "}\n",
       "#T_0e57e_row1_col0 {\n",
       "  background-color: #185493;\n",
       "  color: #f1f1f1;\n",
       "}\n",
       "#T_0e57e_row1_col2 {\n",
       "  background-color: #e48066;\n",
       "  color: #f1f1f1;\n",
       "}\n",
       "#T_0e57e_row1_col3 {\n",
       "  background-color: #9c1127;\n",
       "  color: #f1f1f1;\n",
       "}\n",
       "#T_0e57e_row2_col0, #T_0e57e_row2_col3, #T_0e57e_row3_col1, #T_0e57e_row3_col2 {\n",
       "  background-color: #67001f;\n",
       "  color: #f1f1f1;\n",
       "}\n",
       "#T_0e57e_row2_col1 {\n",
       "  background-color: #d25849;\n",
       "  color: #f1f1f1;\n",
       "}\n",
       "#T_0e57e_row3_col0 {\n",
       "  background-color: #e58368;\n",
       "  color: #f1f1f1;\n",
       "}\n",
       "</style>\n",
       "<table id=\"T_0e57e\">\n",
       "  <thead>\n",
       "    <tr>\n",
       "      <th class=\"blank level0\" >&nbsp;</th>\n",
       "      <th id=\"T_0e57e_level0_col0\" class=\"col_heading level0 col0\" >unit_sales</th>\n",
       "      <th id=\"T_0e57e_level0_col1\" class=\"col_heading level0 col1\" >promotion</th>\n",
       "      <th id=\"T_0e57e_level0_col2\" class=\"col_heading level0 col2\" >social</th>\n",
       "      <th id=\"T_0e57e_level0_col3\" class=\"col_heading level0 col3\" >price</th>\n",
       "    </tr>\n",
       "  </thead>\n",
       "  <tbody>\n",
       "    <tr>\n",
       "      <th id=\"T_0e57e_level0_row0\" class=\"row_heading level0 row0\" >unit_sales</th>\n",
       "      <td id=\"T_0e57e_row0_col0\" class=\"data row0 col0\" >1.000000</td>\n",
       "      <td id=\"T_0e57e_row0_col1\" class=\"data row0 col1\" >0.927018</td>\n",
       "      <td id=\"T_0e57e_row0_col2\" class=\"data row0 col2\" >-0.049691</td>\n",
       "      <td id=\"T_0e57e_row0_col3\" class=\"data row0 col3\" >0.216440</td>\n",
       "    </tr>\n",
       "    <tr>\n",
       "      <th id=\"T_0e57e_level0_row1\" class=\"row_heading level0 row1\" >promotion</th>\n",
       "      <td id=\"T_0e57e_row1_col0\" class=\"data row1 col0\" >0.927018</td>\n",
       "      <td id=\"T_0e57e_row1_col1\" class=\"data row1 col1\" >1.000000</td>\n",
       "      <td id=\"T_0e57e_row1_col2\" class=\"data row1 col2\" >0.067907</td>\n",
       "      <td id=\"T_0e57e_row1_col3\" class=\"data row1 col3\" >-0.148608</td>\n",
       "    </tr>\n",
       "    <tr>\n",
       "      <th id=\"T_0e57e_level0_row2\" class=\"row_heading level0 row2\" >social</th>\n",
       "      <td id=\"T_0e57e_row2_col0\" class=\"data row2 col0\" >-0.049691</td>\n",
       "      <td id=\"T_0e57e_row2_col1\" class=\"data row2 col1\" >0.067907</td>\n",
       "      <td id=\"T_0e57e_row2_col2\" class=\"data row2 col2\" >1.000000</td>\n",
       "      <td id=\"T_0e57e_row2_col3\" class=\"data row2 col3\" >-0.240638</td>\n",
       "    </tr>\n",
       "    <tr>\n",
       "      <th id=\"T_0e57e_level0_row3\" class=\"row_heading level0 row3\" >price</th>\n",
       "      <td id=\"T_0e57e_row3_col0\" class=\"data row3 col0\" >0.216440</td>\n",
       "      <td id=\"T_0e57e_row3_col1\" class=\"data row3 col1\" >-0.148608</td>\n",
       "      <td id=\"T_0e57e_row3_col2\" class=\"data row3 col2\" >-0.240638</td>\n",
       "      <td id=\"T_0e57e_row3_col3\" class=\"data row3 col3\" >1.000000</td>\n",
       "    </tr>\n",
       "  </tbody>\n",
       "</table>\n"
      ],
      "text/plain": [
       "<pandas.io.formats.style.Styler at 0x7f947494a610>"
      ]
     },
     "execution_count": 15,
     "metadata": {},
     "output_type": "execute_result"
    }
   ],
   "source": [
    "corr.style.background_gradient(cmap='RdBu')"
   ]
  },
  {
   "cell_type": "markdown",
   "id": "b1e30ccb",
   "metadata": {},
   "source": [
    "## Export simulated dataset"
   ]
  },
  {
   "cell_type": "code",
   "execution_count": 16,
   "id": "53c41e46",
   "metadata": {},
   "outputs": [],
   "source": [
    "#Save simulated dataset as a csv file or excel file\n",
    "df.to_csv(\"datasets/weekly_sales_data.csv\")\n",
    "\n",
    "#Using to_excel from pandas\n",
    "#https://pandas.pydata.org/docs/reference/api/pandas.DataFrame.to_excel.html#\n",
    "df.to_excel(\"datasets/weekly_sales_data.xlsx\", sheet_name='Sheet1')"
   ]
  },
  {
   "cell_type": "code",
   "execution_count": 17,
   "id": "22475e61",
   "metadata": {},
   "outputs": [
    {
     "data": {
      "text/plain": [
       "True"
      ]
     },
     "execution_count": 17,
     "metadata": {},
     "output_type": "execute_result"
    }
   ],
   "source": [
    "#Check if files exist in directory we designated above using os package\n",
    "import os\n",
    "\n",
    "#Check file one - csv file\n",
    "os.path.isfile(\"datasets/weekly_sales_data.csv\")"
   ]
  },
  {
   "cell_type": "code",
   "execution_count": 18,
   "id": "6e2755f6",
   "metadata": {},
   "outputs": [
    {
     "data": {
      "text/plain": [
       "True"
      ]
     },
     "execution_count": 18,
     "metadata": {},
     "output_type": "execute_result"
    }
   ],
   "source": [
    "#Check file two - Excel sheets\n",
    "os.path.isfile(\"datasets/weekly_sales_data.xlsx\")"
   ]
  },
  {
   "cell_type": "markdown",
   "id": "242d0ca8",
   "metadata": {},
   "source": [
    "***"
   ]
  },
  {
   "cell_type": "markdown",
   "id": "270d08cc",
   "metadata": {},
   "source": [
    "#### References"
   ]
  },
  {
   "cell_type": "markdown",
   "id": "16a966d5",
   "metadata": {},
   "source": [
    "[1]  Chapman, C. and McDonnell Feit, E., (2015). R for marketing research\n",
    "    and analytics. Cham: Springer, pp.47-59, 162-191."
   ]
  }
 ],
 "metadata": {
  "kernelspec": {
   "display_name": "Python 3 (ipykernel)",
   "language": "python",
   "name": "python3"
  },
  "language_info": {
   "codemirror_mode": {
    "name": "ipython",
    "version": 3
   },
   "file_extension": ".py",
   "mimetype": "text/x-python",
   "name": "python",
   "nbconvert_exporter": "python",
   "pygments_lexer": "ipython3",
   "version": "3.9.7"
  }
 },
 "nbformat": 4,
 "nbformat_minor": 5
}
