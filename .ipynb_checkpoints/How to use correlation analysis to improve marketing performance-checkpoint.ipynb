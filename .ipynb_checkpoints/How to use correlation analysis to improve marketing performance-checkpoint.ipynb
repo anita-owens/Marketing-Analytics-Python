{
 "cells": [
  {
   "cell_type": "markdown",
   "id": "a9f4dab3",
   "metadata": {},
   "source": [
    "## How to use correlation analysis to improve marketing"
   ]
  },
  {
   "cell_type": "code",
   "execution_count": 1,
   "id": "fe20b178",
   "metadata": {},
   "outputs": [],
   "source": [
    "#Locate imported packages\n",
    "import sys\n",
    "sys.path\n",
    "\n",
    "#import pandas and numpy\n",
    "import pandas as pd\n",
    "import numpy as np\n",
    "\n",
    "# From matplotlib, import pyplot under the alias plt\n",
    "from matplotlib import pyplot as plt\n"
   ]
  }
 ],
 "metadata": {
  "kernelspec": {
   "display_name": "Python 3 (ipykernel)",
   "language": "python",
   "name": "python3"
  },
  "language_info": {
   "codemirror_mode": {
    "name": "ipython",
    "version": 3
   },
   "file_extension": ".py",
   "mimetype": "text/x-python",
   "name": "python",
   "nbconvert_exporter": "python",
   "pygments_lexer": "ipython3",
   "version": "3.9.7"
  }
 },
 "nbformat": 4,
 "nbformat_minor": 5
}
